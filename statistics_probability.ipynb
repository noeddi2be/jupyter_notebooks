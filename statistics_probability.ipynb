{
 "cells": [
  {
   "cell_type": "markdown",
   "metadata": {},
   "source": [
    "<h1 style=\"color:lightblue;\">Statistics & Probability</h1>\n"
   ]
  },
  {
   "cell_type": "markdown",
   "metadata": {},
   "source": [
    "**This jupyter notebook is devided into different sections.**\n",
    "\n",
    "**Sections are devided by a <span style=\"color:red;\">red dotted</span> line.**"
   ]
  },
  {
   "cell_type": "markdown",
   "metadata": {},
   "source": [
    "<hr style=\"border-top: 3px dotted red; border-bottom: none;\">"
   ]
  },
  {
   "cell_type": "markdown",
   "metadata": {},
   "source": [
    "<h3 style=\"color:lightblue;\">Imports</h3>\n",
    "\n",
    "This section is importing all the libraries and modules that are needed for the Notebook to work."
   ]
  },
  {
   "cell_type": "markdown",
   "metadata": {},
   "source": [
    "<hr style=\"border-top: 3px dotted red; border-bottom: none;\">"
   ]
  },
  {
   "cell_type": "markdown",
   "metadata": {},
   "source": [
    "<h3 style=\"color:lightblue;\">Variables & Data</h3>\n",
    "\n",
    "This section is defining variables that can be used for different computations."
   ]
  },
  {
   "cell_type": "markdown",
   "metadata": {},
   "source": [
    "<hr style=\"border-top: 3px dotted red; border-bottom: none;\">"
   ]
  },
  {
   "cell_type": "markdown",
   "metadata": {},
   "source": [
    "<h3 style=\"color:lightblue;\">Basic Functions</h3>\n",
    "\n",
    "This section has basic functions that can be executed on the data."
   ]
  },
  {
   "cell_type": "markdown",
   "metadata": {},
   "source": [
    "<hr style=\"border-top: 3px dotted red; border-bottom: none;\">"
   ]
  },
  {
   "cell_type": "markdown",
   "metadata": {},
   "source": [
    "<h3 style=\"color:lightblue;\">Advanced Functions</h3>\n",
    "\n",
    "This section holds advanced statistics functions that can be executed on the data.\n",
    "\n",
    "Advanced functions are devided by a <span style=\"color:green;\">green dotted</span> line.\n"
   ]
  },
  {
   "cell_type": "markdown",
   "metadata": {},
   "source": [
    "<hr style=\"border-top: 3px dotted red; border-bottom: none;\">"
   ]
  },
  {
   "cell_type": "markdown",
   "metadata": {},
   "source": [
    "<h3 style=\"color:lightblue;\">Class Exercises</h3>\n",
    "\n",
    "This section holds class exercises.\n",
    "\n",
    "Class exercises are devided by a <span style=\"color:green;\">green dotted</span> line.\n"
   ]
  },
  {
   "cell_type": "markdown",
   "metadata": {},
   "source": [
    "<hr style=\"border-top: 15px dotted red; border-bottom: none;\">"
   ]
  },
  {
   "cell_type": "markdown",
   "metadata": {},
   "source": [
    "<h1 style=\"color:lightblue;\">Imports</h1>"
   ]
  },
  {
   "cell_type": "markdown",
   "metadata": {},
   "source": [
    "Imports need to be made when starting the notebook."
   ]
  },
  {
   "cell_type": "code",
   "execution_count": null,
   "metadata": {},
   "outputs": [],
   "source": [
    "import os\n",
    "import pyreadr\n",
    "import numpy as np\n",
    "import matplotlib.pyplot as plt\n",
    "import pandas as pd\n",
    "from sklearn.linear_model import LinearRegression\n",
    "import statistics\n",
    "import rpy2.robjects as ro\n",
    "import rpy2.robjects.packages as rpackages\n",
    "from rpy2.robjects import pandas2ri"
   ]
  },
  {
   "cell_type": "markdown",
   "metadata": {},
   "source": [
    "# "
   ]
  },
  {
   "cell_type": "markdown",
   "metadata": {},
   "source": [
    "<hr style=\"border-top: 15px dotted red; border-bottom: none;\">"
   ]
  },
  {
   "cell_type": "markdown",
   "metadata": {},
   "source": [
    "<h1 style=\"color:lightblue;\">Variables & Data</h1>"
   ]
  },
  {
   "cell_type": "markdown",
   "metadata": {},
   "source": [
    "### Change to Data Directory\n",
    "This is needed to import directly from path!"
   ]
  },
  {
   "cell_type": "code",
   "execution_count": null,
   "metadata": {},
   "outputs": [],
   "source": [
    "os.chdir('/Users/mstring/GitHub/FHNW-2023/Statistics/data')\n",
    "!ls -l\n"
   ]
  },
  {
   "cell_type": "markdown",
   "metadata": {},
   "source": [
    "---"
   ]
  },
  {
   "cell_type": "markdown",
   "metadata": {},
   "source": [
    "### Import R Data"
   ]
  },
  {
   "cell_type": "markdown",
   "metadata": {},
   "source": [
    "- rdata\n",
    "- dfr"
   ]
  },
  {
   "cell_type": "code",
   "execution_count": null,
   "metadata": {},
   "outputs": [],
   "source": [
    "# Importing R Data:\n",
    "rdata = pyreadr.read_r('SimpleReg.RData')\n",
    "print(rdata.keys())"
   ]
  },
  {
   "cell_type": "code",
   "execution_count": null,
   "metadata": {},
   "outputs": [],
   "source": [
    "# Converting R Data to a Dataframe:\n",
    "dfr = (rdata['dat'])\n",
    "print(dfr)"
   ]
  },
  {
   "cell_type": "markdown",
   "metadata": {},
   "source": [
    "---"
   ]
  },
  {
   "cell_type": "markdown",
   "metadata": {},
   "source": [
    "### Read a Text File to DF\n"
   ]
  },
  {
   "cell_type": "markdown",
   "metadata": {},
   "source": [
    "Housingprices.txt --> df"
   ]
  },
  {
   "cell_type": "code",
   "execution_count": null,
   "metadata": {},
   "outputs": [],
   "source": [
    "# Read a text file with tab as separator on Mac and Fedora: \n",
    "df = pd.read_csv('housingprices.txt',  sep='\\t')\n",
    "#df = pd.read_csv('ticketprices.txt',  sep='\\t')"
   ]
  },
  {
   "cell_type": "code",
   "execution_count": null,
   "metadata": {},
   "outputs": [],
   "source": [
    "# Visualize content of dataframe\n",
    "print(df.head())\n",
    "print(df.tail())"
   ]
  },
  {
   "cell_type": "markdown",
   "metadata": {},
   "source": [
    "---"
   ]
  },
  {
   "cell_type": "markdown",
   "metadata": {},
   "source": [
    "### Import AER Package"
   ]
  },
  {
   "cell_type": "code",
   "execution_count": null,
   "metadata": {},
   "outputs": [],
   "source": [
    "# Import the AER package\n",
    "AER = rpackages.importr('AER')\n",
    "\n",
    "# Load the Grunfeld dataset\n",
    "grunfeld_rdf = ro.r('data(\"Grunfeld\", package = \"AER\"); Grunfeld')\n",
    "\n",
    "# Convert the R dataframe to a pandas dataframe\n",
    "pandas2ri.activate()\n",
    "grunfeld_df = pandas2ri.rpy2py(grunfeld_rdf)\n",
    "\n",
    "print(grunfeld_df)"
   ]
  },
  {
   "cell_type": "markdown",
   "metadata": {},
   "source": [
    "# "
   ]
  },
  {
   "cell_type": "markdown",
   "metadata": {},
   "source": [
    "<hr style=\"border-top: 15px dotted red; border-bottom: none;\">"
   ]
  },
  {
   "cell_type": "markdown",
   "metadata": {},
   "source": [
    "<h1 style=\"color:lightblue;\">Basic Functions</h1>"
   ]
  },
  {
   "cell_type": "markdown",
   "metadata": {},
   "source": [
    "### Line Plot"
   ]
  },
  {
   "cell_type": "code",
   "execution_count": null,
   "metadata": {},
   "outputs": [],
   "source": [
    "# data defined locally\n",
    "years = [2006 + x for x in range(16)]\n",
    "weight = [80, 83, 84, 85, 86, 82, 81, 79, 79, 83, 80, 82, 82, \n",
    "          83, 81, 80]\n",
    "\n",
    "\n",
    "# print length\n",
    "print(len(years))\n",
    "print(len(weight))\n",
    "\n",
    "\n",
    "# plt.plot shows a line graph - standart behaviour\n",
    "plt.plot(years, weight, c='r', lw=3, linestyle='--')\n",
    "plt.show()"
   ]
  },
  {
   "cell_type": "markdown",
   "metadata": {},
   "source": [
    "---"
   ]
  },
  {
   "cell_type": "markdown",
   "metadata": {},
   "source": [
    "### Bar Plot"
   ]
  },
  {
   "cell_type": "code",
   "execution_count": null,
   "metadata": {},
   "outputs": [],
   "source": [
    "\"\"\"\n",
    "Args:\n",
    "    data is defined locally\n",
    "Returns:\n",
    "    basic bar plot\n",
    "\"\"\"\n",
    "\n",
    "x = ['C++', 'C#', 'Python', 'Java', 'Go']\n",
    "y = [20, 50, 140, 1, 4]\n",
    "\n",
    "\n",
    "plt.bar(x, y, color='blue', align='edge', width=0.5, edgecolor='green', linewidth=6)\n",
    "plt.show()"
   ]
  },
  {
   "cell_type": "markdown",
   "metadata": {},
   "source": [
    "---"
   ]
  },
  {
   "cell_type": "markdown",
   "metadata": {},
   "source": [
    "### Scatter Plot "
   ]
  },
  {
   "cell_type": "code",
   "execution_count": null,
   "metadata": {},
   "outputs": [],
   "source": [
    "# SimpleReg.RData \n",
    "print(dfr)"
   ]
  },
  {
   "cell_type": "code",
   "execution_count": null,
   "metadata": {},
   "outputs": [],
   "source": [
    "\"\"\"\n",
    "Args:\n",
    "    param1: dfr from housingprices.txt, format is a dataframe\n",
    "Returns:\n",
    "    scatter plot\n",
    "\"\"\"\n",
    "\n",
    "# Remove rows where 'RENT' is NaN\n",
    "dfr = dfr.dropna(subset=['RENT'])  \n",
    "\n",
    "plt.scatter(dfr['RENT'], dfr['HOUSEHOLD_INCOME'], c='red')\n",
    "plt.xlabel('Rent')\n",
    "plt.ylabel('Household Income')\n",
    "plt.title('Scatter plot of Rent vs Household Income')\n",
    "plt.show()"
   ]
  },
  {
   "cell_type": "markdown",
   "metadata": {},
   "source": [
    "---"
   ]
  },
  {
   "cell_type": "markdown",
   "metadata": {},
   "source": [
    "### Boxplot"
   ]
  },
  {
   "cell_type": "code",
   "execution_count": null,
   "metadata": {},
   "outputs": [],
   "source": [
    "# Import SimpleReg.RData to df\n",
    "print(df)"
   ]
  },
  {
   "cell_type": "code",
   "execution_count": null,
   "metadata": {},
   "outputs": [],
   "source": [
    "# Create Boxplot\n",
    "boxplot = df.boxplot(column = 'Price', by='Bedrooms')\n",
    "boxplot.set_ylabel('Price')\n",
    "boxplot.set_xlabel('Bedrooms')\n",
    "plt.show()"
   ]
  },
  {
   "cell_type": "markdown",
   "metadata": {},
   "source": [
    "---"
   ]
  },
  {
   "cell_type": "markdown",
   "metadata": {},
   "source": [
    "### Mode"
   ]
  },
  {
   "cell_type": "markdown",
   "metadata": {},
   "source": [
    "The mode is the most common value in a dataset. "
   ]
  },
  {
   "cell_type": "code",
   "execution_count": null,
   "metadata": {},
   "outputs": [],
   "source": [
    "# Print DF Head (Import eg. SimpleReg.RData or defined locally)\n",
    "print(df.head())"
   ]
  },
  {
   "cell_type": "code",
   "execution_count": null,
   "metadata": {},
   "outputs": [],
   "source": [
    "# Sample Data in a list (Data type)\n",
    "list_1 = [8, 8, 5, 3, 3, 3, 6, 2, 10]"
   ]
  },
  {
   "cell_type": "code",
   "execution_count": null,
   "metadata": {},
   "outputs": [],
   "source": [
    "# Create a DataFrame\n",
    "# A and B are the collumn names (vertically), so there are 2 collumns and 8 rows.\n",
    "df = pd.DataFrame({\n",
    "   'A': [1, 2, 2, 3, 4, 4, 4, 5],\n",
    "   'B': [5, 6, 7, 8, 8, 10, 11, 12]\n",
    "})"
   ]
  },
  {
   "cell_type": "code",
   "execution_count": null,
   "metadata": {},
   "outputs": [],
   "source": [
    "mode = statistics.mode(list_1)"
   ]
  },
  {
   "cell_type": "code",
   "execution_count": null,
   "metadata": {},
   "outputs": [],
   "source": [
    "# Calculate the mode\n",
    "mode = df['A'].mode()\n",
    "mode_2 = df.mode()"
   ]
  },
  {
   "cell_type": "code",
   "execution_count": null,
   "metadata": {},
   "outputs": [],
   "source": [
    "print(mode)"
   ]
  },
  {
   "cell_type": "code",
   "execution_count": null,
   "metadata": {},
   "outputs": [],
   "source": [
    "print(mode_2)"
   ]
  },
  {
   "cell_type": "markdown",
   "metadata": {},
   "source": [
    "---"
   ]
  },
  {
   "cell_type": "markdown",
   "metadata": {},
   "source": [
    "### Mean"
   ]
  },
  {
   "cell_type": "markdown",
   "metadata": {},
   "source": [
    "The mean is the average of all values."
   ]
  },
  {
   "cell_type": "code",
   "execution_count": null,
   "metadata": {},
   "outputs": [],
   "source": [
    "# Print DF Head (Import eg. SimpleReg.RData or defined locally)\n",
    "print(df.head())"
   ]
  },
  {
   "cell_type": "code",
   "execution_count": null,
   "metadata": {},
   "outputs": [],
   "source": [
    "# Sample Data in a list (Data type)\n",
    "list_1 = [8, 8, 5, 3, 3, 3, 6, 2, 10]"
   ]
  },
  {
   "cell_type": "code",
   "execution_count": null,
   "metadata": {},
   "outputs": [],
   "source": [
    "mode = statistics.mode(list_1)"
   ]
  },
  {
   "cell_type": "code",
   "execution_count": null,
   "metadata": {},
   "outputs": [],
   "source": [
    "# Create a DataFrame\n",
    "# A and B are the collumn names (vertically), so there are 2 collumns and 8 rows.\n",
    "df = pd.DataFrame({\n",
    "   'A': [1, 2, 2, 3, 4, 4, 4, 5],\n",
    "   'B': [5, 6, 7, 8, 8, 10, 11, 12]\n",
    "})"
   ]
  },
  {
   "cell_type": "code",
   "execution_count": null,
   "metadata": {},
   "outputs": [],
   "source": [
    "# Calculate the mode\n",
    "mode = df['A'].mode()\n",
    "mode_2 = df.mode()"
   ]
  },
  {
   "cell_type": "code",
   "execution_count": null,
   "metadata": {},
   "outputs": [],
   "source": [
    "print(mode)"
   ]
  },
  {
   "cell_type": "code",
   "execution_count": null,
   "metadata": {},
   "outputs": [],
   "source": [
    "print(mode_2)"
   ]
  },
  {
   "cell_type": "markdown",
   "metadata": {},
   "source": [
    "---"
   ]
  },
  {
   "cell_type": "markdown",
   "metadata": {},
   "source": [
    "### Median"
   ]
  },
  {
   "cell_type": "markdown",
   "metadata": {},
   "source": [
    "The median is the the value that lays on the midpoint of a distribution.\n",
    "50% are above, and 50% are below the value."
   ]
  },
  {
   "cell_type": "code",
   "execution_count": null,
   "metadata": {},
   "outputs": [],
   "source": [
    "list_2 = [8, 8, 5, 3, 3, 3, 6, 2, 10]"
   ]
  },
  {
   "cell_type": "code",
   "execution_count": null,
   "metadata": {},
   "outputs": [],
   "source": [
    "# Sorting the list according to values. This does not need to be done to find the median.\n",
    "list_2.sort()"
   ]
  },
  {
   "cell_type": "code",
   "execution_count": null,
   "metadata": {},
   "outputs": [],
   "source": [
    "print(list_2)"
   ]
  },
  {
   "cell_type": "code",
   "execution_count": null,
   "metadata": {},
   "outputs": [],
   "source": [
    "# The median can also be found for a dataframe with the pandas library.\n",
    "# The function df.median() is used. When applying the function to a dataframe, the median for each collumn is the output.\n",
    "# To output it for the whole dataframe, it needs to be flattened with the melt function.\n",
    "median = statistics.median(list_2)"
   ]
  },
  {
   "cell_type": "code",
   "execution_count": null,
   "metadata": {},
   "outputs": [],
   "source": [
    "print(median)"
   ]
  },
  {
   "cell_type": "markdown",
   "metadata": {},
   "source": [
    "---"
   ]
  },
  {
   "cell_type": "markdown",
   "metadata": {},
   "source": [
    "### Quantiles"
   ]
  },
  {
   "cell_type": "markdown",
   "metadata": {},
   "source": [
    "The quantile divides the distribution, so that X % of the observations are below, and (1-X %) of the\n",
    "observations are above the value of the quantile."
   ]
  },
  {
   "cell_type": "code",
   "execution_count": null,
   "metadata": {},
   "outputs": [],
   "source": [
    "list_3 = [1, 2, 3, 4, 5, 6, 7, 8, 9, 10]"
   ]
  },
  {
   "cell_type": "code",
   "execution_count": null,
   "metadata": {},
   "outputs": [],
   "source": [
    "first_quantile = np.percentile(list_3, 25)"
   ]
  },
  {
   "cell_type": "code",
   "execution_count": null,
   "metadata": {},
   "outputs": [],
   "source": [
    "print(first_quantile)"
   ]
  },
  {
   "cell_type": "markdown",
   "metadata": {},
   "source": [
    "---"
   ]
  },
  {
   "cell_type": "markdown",
   "metadata": {},
   "source": [
    "### Correlation Coefficient"
   ]
  },
  {
   "cell_type": "markdown",
   "metadata": {},
   "source": [
    "Correlation measures the strength of the linear association between two quantitative variables.\n",
    "It measures, how close a the values are to a perfectly linear slope. (The slope that would fit best)\n",
    "Values can only range from -1 to 1 inclusive, from perfectly negative to perfectly positive."
   ]
  },
  {
   "cell_type": "code",
   "execution_count": null,
   "metadata": {},
   "outputs": [],
   "source": [
    "np.random.seed(1234)\n",
    "#random_values = np.random.randint(low=1, high=101, size=100) \n",
    "\n",
    "df_correlation = pd.DataFrame(np.random.randint(low=1, high=101, size=(100, 2)), columns=list('XY'))\n",
    "\n",
    "print(df_correlation.head())\n",
    "print(df_correlation.tail())"
   ]
  },
  {
   "cell_type": "code",
   "execution_count": null,
   "metadata": {},
   "outputs": [],
   "source": [
    "r = df_correlation.corr()\n",
    "print(r)"
   ]
  },
  {
   "cell_type": "markdown",
   "metadata": {},
   "source": [
    "---"
   ]
  },
  {
   "cell_type": "markdown",
   "metadata": {},
   "source": [
    "# "
   ]
  },
  {
   "cell_type": "markdown",
   "metadata": {},
   "source": [
    "<hr style=\"border-top: 15px dotted red; border-bottom: none;\">"
   ]
  },
  {
   "cell_type": "markdown",
   "metadata": {},
   "source": [
    "<h1 style=\"color:lightblue;\">Advanced Functions</h1>"
   ]
  },
  {
   "cell_type": "markdown",
   "metadata": {},
   "source": [
    "# Linear Regression with SKLearn"
   ]
  },
  {
   "cell_type": "markdown",
   "metadata": {},
   "source": [
    "## Level - Level"
   ]
  },
  {
   "cell_type": "markdown",
   "metadata": {},
   "source": [
    "The equation for a simple linear regression model is:\n",
    "\n",
    "$$y_i = b_0 + b_1 \\cdot x_i + e_i$$\n",
    "\n",
    "This can be compared to the equation of a line, which is:\n",
    "\n",
    "$$y = m \\cdot x + q$$\n",
    "\n",
    "Here's how the terms correspond:\n",
    "\n",
    "- $y_i$ is the dependent variable (like $y$ in the line equation).\n",
    "- $b_0$ is the y-intercept (like $q$ in the line equation).\n",
    "- $b_1$ is the slope of the line (like $m$ in the line equation).\n",
    "- $x_i$ is the independent variable (like $x$ in the line equation).\n",
    "- $e_i$ is the error term, which accounts for the difference between the observed and predicted values. This term doesn't have a direct equivalent in the simple line equation.\n",
    "\n",
    "In a statistical context, $y_i = b_0 + b_1 \\cdot x_i + e_i$ is a simple linear regression model, which predicts the dependent variable $y_i$ based on the independent variable $x_i$, with some error term $e_i$. The coefficients $b_0$ and $b_1$ are estimated from the data.\n"
   ]
  },
  {
   "cell_type": "code",
   "execution_count": 124,
   "metadata": {},
   "outputs": [
    {
     "name": "stdout",
     "output_type": "stream",
     "text": [
      "       Price  Living Area  Bedrooms  Bathrooms  Fireplaces  Age\n",
      "0     142212         1982         3        1.0           0  133\n",
      "1     134865         1676         3        1.5           1   14\n",
      "2     118007         1694         3        2.0           1   15\n",
      "3     138297         1800         2        1.0           2   49\n",
      "4     129470         2088         3        1.0           1   29\n",
      "...      ...          ...       ...        ...         ...  ...\n",
      "1052  107695         1802         4        2.0           1   56\n",
      "1053  236737         3239         4        3.5           2    1\n",
      "1054  154829         1440         2        2.0           1   66\n",
      "1055  179492         2030         3        2.5           1    3\n",
      "1056  189108         2097         3        2.5           1   10\n",
      "\n",
      "[1057 rows x 6 columns]\n"
     ]
    }
   ],
   "source": [
    "# Import SimpleReg.RData to df\n",
    "print(df)"
   ]
  },
  {
   "cell_type": "code",
   "execution_count": 125,
   "metadata": {},
   "outputs": [
    {
     "name": "stdout",
     "output_type": "stream",
     "text": [
      "       Price  Living Area  Bedrooms  Bathrooms  Fireplaces  Age\n",
      "0     142212         1982         3        1.0           0  133\n",
      "3     138297         1800         2        1.0           2   49\n",
      "4     129470         2088         3        1.0           1   29\n",
      "7     108794         1464         2        1.0           0   87\n",
      "8      68353         1216         2        1.0           0  101\n",
      "...      ...          ...       ...        ...         ...  ...\n",
      "1028  199733          840         2        1.0           0   50\n",
      "1030  106950         1472         3        1.0           1   28\n",
      "1037   67951         1040         2        1.0           0   19\n",
      "1038  121798         1308         3        1.0           0   29\n",
      "1047  107973         1388         3        1.0           0   60\n",
      "\n",
      "[197 rows x 6 columns]\n"
     ]
    }
   ],
   "source": [
    "# Apply a filter if needed\n",
    "df_filter = df[df['Bathrooms'] == 1.0]\n",
    "print(df_filter)"
   ]
  },
  {
   "cell_type": "code",
   "execution_count": 126,
   "metadata": {},
   "outputs": [],
   "source": [
    "# Handle missing or infinite values which might result from the conversion or the log transformation:\n",
    "df_filter = df_filter.replace([np.inf, -np.inf], np.nan)\n",
    "df_filter = df_filter.dropna(subset=['Age','Price'])"
   ]
  },
  {
   "cell_type": "code",
   "execution_count": 127,
   "metadata": {},
   "outputs": [
    {
     "data": {
      "text/html": [
       "<style>#sk-container-id-1 {color: black;}#sk-container-id-1 pre{padding: 0;}#sk-container-id-1 div.sk-toggleable {background-color: white;}#sk-container-id-1 label.sk-toggleable__label {cursor: pointer;display: block;width: 100%;margin-bottom: 0;padding: 0.3em;box-sizing: border-box;text-align: center;}#sk-container-id-1 label.sk-toggleable__label-arrow:before {content: \"▸\";float: left;margin-right: 0.25em;color: #696969;}#sk-container-id-1 label.sk-toggleable__label-arrow:hover:before {color: black;}#sk-container-id-1 div.sk-estimator:hover label.sk-toggleable__label-arrow:before {color: black;}#sk-container-id-1 div.sk-toggleable__content {max-height: 0;max-width: 0;overflow: hidden;text-align: left;background-color: #f0f8ff;}#sk-container-id-1 div.sk-toggleable__content pre {margin: 0.2em;color: black;border-radius: 0.25em;background-color: #f0f8ff;}#sk-container-id-1 input.sk-toggleable__control:checked~div.sk-toggleable__content {max-height: 200px;max-width: 100%;overflow: auto;}#sk-container-id-1 input.sk-toggleable__control:checked~label.sk-toggleable__label-arrow:before {content: \"▾\";}#sk-container-id-1 div.sk-estimator input.sk-toggleable__control:checked~label.sk-toggleable__label {background-color: #d4ebff;}#sk-container-id-1 div.sk-label input.sk-toggleable__control:checked~label.sk-toggleable__label {background-color: #d4ebff;}#sk-container-id-1 input.sk-hidden--visually {border: 0;clip: rect(1px 1px 1px 1px);clip: rect(1px, 1px, 1px, 1px);height: 1px;margin: -1px;overflow: hidden;padding: 0;position: absolute;width: 1px;}#sk-container-id-1 div.sk-estimator {font-family: monospace;background-color: #f0f8ff;border: 1px dotted black;border-radius: 0.25em;box-sizing: border-box;margin-bottom: 0.5em;}#sk-container-id-1 div.sk-estimator:hover {background-color: #d4ebff;}#sk-container-id-1 div.sk-parallel-item::after {content: \"\";width: 100%;border-bottom: 1px solid gray;flex-grow: 1;}#sk-container-id-1 div.sk-label:hover label.sk-toggleable__label {background-color: #d4ebff;}#sk-container-id-1 div.sk-serial::before {content: \"\";position: absolute;border-left: 1px solid gray;box-sizing: border-box;top: 0;bottom: 0;left: 50%;z-index: 0;}#sk-container-id-1 div.sk-serial {display: flex;flex-direction: column;align-items: center;background-color: white;padding-right: 0.2em;padding-left: 0.2em;position: relative;}#sk-container-id-1 div.sk-item {position: relative;z-index: 1;}#sk-container-id-1 div.sk-parallel {display: flex;align-items: stretch;justify-content: center;background-color: white;position: relative;}#sk-container-id-1 div.sk-item::before, #sk-container-id-1 div.sk-parallel-item::before {content: \"\";position: absolute;border-left: 1px solid gray;box-sizing: border-box;top: 0;bottom: 0;left: 50%;z-index: -1;}#sk-container-id-1 div.sk-parallel-item {display: flex;flex-direction: column;z-index: 1;position: relative;background-color: white;}#sk-container-id-1 div.sk-parallel-item:first-child::after {align-self: flex-end;width: 50%;}#sk-container-id-1 div.sk-parallel-item:last-child::after {align-self: flex-start;width: 50%;}#sk-container-id-1 div.sk-parallel-item:only-child::after {width: 0;}#sk-container-id-1 div.sk-dashed-wrapped {border: 1px dashed gray;margin: 0 0.4em 0.5em 0.4em;box-sizing: border-box;padding-bottom: 0.4em;background-color: white;}#sk-container-id-1 div.sk-label label {font-family: monospace;font-weight: bold;display: inline-block;line-height: 1.2em;}#sk-container-id-1 div.sk-label-container {text-align: center;}#sk-container-id-1 div.sk-container {/* jupyter's `normalize.less` sets `[hidden] { display: none; }` but bootstrap.min.css set `[hidden] { display: none !important; }` so we also need the `!important` here to be able to override the default hidden behavior on the sphinx rendered scikit-learn.org. See: https://github.com/scikit-learn/scikit-learn/issues/21755 */display: inline-block !important;position: relative;}#sk-container-id-1 div.sk-text-repr-fallback {display: none;}</style><div id=\"sk-container-id-1\" class=\"sk-top-container\"><div class=\"sk-text-repr-fallback\"><pre>LinearRegression()</pre><b>In a Jupyter environment, please rerun this cell to show the HTML representation or trust the notebook. <br />On GitHub, the HTML representation is unable to render, please try loading this page with nbviewer.org.</b></div><div class=\"sk-container\" hidden><div class=\"sk-item\"><div class=\"sk-estimator sk-toggleable\"><input class=\"sk-toggleable__control sk-hidden--visually\" id=\"sk-estimator-id-1\" type=\"checkbox\" checked><label for=\"sk-estimator-id-1\" class=\"sk-toggleable__label sk-toggleable__label-arrow\">LinearRegression</label><div class=\"sk-toggleable__content\"><pre>LinearRegression()</pre></div></div></div></div></div>"
      ],
      "text/plain": [
       "LinearRegression()"
      ]
     },
     "execution_count": 127,
     "metadata": {},
     "output_type": "execute_result"
    }
   ],
   "source": [
    "# Independent Variable X (Provide)\n",
    "x = df[['Bedrooms']]\n",
    "\n",
    "# Dependent Variable Y (Predict)\n",
    "y = df[['Price']]\n",
    "\n",
    "# Find the mean linear regression of all the values\n",
    "model = LinearRegression()\n",
    "model.fit(x,y)"
   ]
  },
  {
   "cell_type": "code",
   "execution_count": 128,
   "metadata": {},
   "outputs": [
    {
     "data": {
      "text/plain": [
       "[<matplotlib.lines.Line2D at 0x293aaba60>]"
      ]
     },
     "execution_count": 128,
     "metadata": {},
     "output_type": "execute_result"
    },
    {
     "data": {
      "image/png": "[encoded data removed]",
      "text/plain": [
       "<Figure size 640x480 with 1 Axes>"
      ]
     },
     "metadata": {},
     "output_type": "display_data"
    }
   ],
   "source": [
    "# Plot the values and linear regression\n",
    "plt.scatter(x,y)\n",
    "plt.plot(x, model.predict(x), c='red')"
   ]
  },
  {
   "cell_type": "code",
   "execution_count": 129,
   "metadata": {},
   "outputs": [
    {
     "name": "stdout",
     "output_type": "stream",
     "text": [
      "y-Intercept = 14349.484005688515\n",
      "Slope = 48218.91218240856\n"
     ]
    }
   ],
   "source": [
    "# Print y-intercept\n",
    "# One dimensional array - specify which element before convert. to int\n",
    "print('y-Intercept = ' + str(float(model.intercept_[0])))\n",
    "\n",
    "# Print slope\n",
    "# Two dimensional array - specify which element before convert. to int\n",
    "print('Slope = ' + str(float(model.coef_[0][0])))"
   ]
  },
  {
   "cell_type": "code",
   "execution_count": 130,
   "metadata": {},
   "outputs": [
    {
     "data": {
      "text/plain": [
       "159006.2205529142"
      ]
     },
     "execution_count": 130,
     "metadata": {},
     "output_type": "execute_result"
    }
   ],
   "source": [
    "# Predict certain value\n",
    "def predicted_y(value):\n",
    "    predict = model.coef_ * value + model.intercept_\n",
    "    return predict\n",
    "\n",
    "# Insert value into function\n",
    "float(predicted_y(3)[0][0])"
   ]
  },
  {
   "cell_type": "markdown",
   "metadata": {},
   "source": [
    "---"
   ]
  },
  {
   "cell_type": "markdown",
   "metadata": {},
   "source": [
    "## Log - Level"
   ]
  },
  {
   "cell_type": "markdown",
   "metadata": {},
   "source": [
    "The equation for a log-level regression model is:\n",
    "\n",
    "$$\\log(y_i) = b_0 + b_1 \\cdot x_i + e_i$$\n",
    "\n",
    "Here's how the terms correspond:\n",
    "\n",
    "- $\\log(y_i)$ is the natural logarithm of the dependent variable.\n",
    "- $b_0$ is the y-intercept.\n",
    "- $b_1$ is the slope of the line.\n",
    "- $x_i$ is the independent variable.\n",
    "- $e_i$ is the error term, which accounts for the difference between the observed and predicted values.\n",
    "\n",
    "In this model, a one-unit change in $x_i$ is associated with a $b_1$ percent change in $y_i$. This is because when $y_i$ is logged, the coefficient $b_1$ can be interpreted as a percentage change rather than a unit change. The error term $e_i$ accounts for any random variation not explained by the model.\n",
    "\n",
    "This model assumes that the relationship between $x_i$ and $\\log(y_i)$ is linear. It's often used in situations where the effect of changes in the independent variable on the dependent variable are multiplicative rather than additive. The coefficients $b_0$ and $b_1$ are estimated from the data.\n",
    "\n",
    "Please note that this interpretation assumes that all other assumptions of linear regression (such as independence of errors) are met. If these assumptions are violated, then this interpretation may not be valid.\n"
   ]
  },
  {
   "cell_type": "code",
   "execution_count": null,
   "metadata": {},
   "outputs": [],
   "source": [
    "# Import SimpleReg.RData to df\n",
    "print(df)"
   ]
  },
  {
   "cell_type": "code",
   "execution_count": null,
   "metadata": {},
   "outputs": [],
   "source": [
    "# Apply a filter if needed\n",
    "df_filter = df[df['Bathrooms'] == 1.0]\n",
    "print(df_filter)"
   ]
  },
  {
   "cell_type": "code",
   "execution_count": null,
   "metadata": {},
   "outputs": [],
   "source": [
    "# Handle missing or infinite values which might result from the conversion or the log transformation:\n",
    "df_filter = df_filter.replace([np.inf, -np.inf], np.nan)\n",
    "df_filter = df_filter.dropna(subset=['Age','Price'])"
   ]
  },
  {
   "cell_type": "code",
   "execution_count": null,
   "metadata": {},
   "outputs": [],
   "source": [
    "# Independent Variable X (Provide)\n",
    "x = df[['Bedrooms']]\n",
    "\n",
    "# Dependent Variable Y (Predict)\n",
    "# Apply a log transformation to the 'Price' column\n",
    "y = np.log(df[['Price']])\n",
    "\n",
    "# Create a LinearRegression object\n",
    "model = LinearRegression()\n",
    "\n",
    "# Fit the model\n",
    "model.fit(x, y)"
   ]
  },
  {
   "cell_type": "code",
   "execution_count": null,
   "metadata": {},
   "outputs": [],
   "source": [
    "# Plot the values and linear regression\n",
    "plt.scatter(x,y)\n",
    "plt.plot(x, model.predict(x), c='red')"
   ]
  },
  {
   "cell_type": "code",
   "execution_count": null,
   "metadata": {},
   "outputs": [],
   "source": [
    "# Print y-intercept\n",
    "# One dimensional array - specify which element before convert. to int\n",
    "print('y-Intercept = ' + str(float(model.intercept_[0])))\n",
    "\n",
    "# Print slope\n",
    "# Two dimensional array - specify which element before convert. to int\n",
    "print('Slope = ' + str(float(model.coef_[0][0])))"
   ]
  },
  {
   "cell_type": "code",
   "execution_count": null,
   "metadata": {},
   "outputs": [],
   "source": [
    "# Predict certain value\n",
    "def predicted_y(value):\n",
    "    predict = model.coef_ * value + model.intercept_\n",
    "    return predict\n",
    "\n",
    "# Insert value into function\n",
    "float(predicted_y(3)[0][0])"
   ]
  },
  {
   "cell_type": "markdown",
   "metadata": {},
   "source": [
    "---"
   ]
  },
  {
   "cell_type": "markdown",
   "metadata": {},
   "source": [
    "## Level - Log"
   ]
  },
  {
   "cell_type": "markdown",
   "metadata": {},
   "source": [
    "The equation for a level-log regression model is:\n",
    "\n",
    "$$y_i = b_0 + b_1 \\cdot \\log(x_i) + e_i$$\n",
    "\n",
    "Here's how the terms correspond:\n",
    "\n",
    "- $y_i$ is the dependent variable.\n",
    "- $b_0$ is the y-intercept.\n",
    "- $b_1$ is the slope of the line.\n",
    "- $\\log(x_i)$ is the natural logarithm of the independent variable.\n",
    "- $e_i$ is the error term, which accounts for the difference between the observed and predicted values.\n",
    "\n",
    "In this model, a one percent change in $x_i$ is associated with a change of $(0.01 \\cdot b_1)$ units in $y_i$. This is because when $x_i$ is logged, the coefficient $b_1$ can be interpreted as a semi-elasticity. The error term $e_i$ accounts for any random variation not explained by the model.\n",
    "\n",
    "This model assumes that the relationship between $\\log(x_i)$ and $y_i$ is linear. It's often used in situations where the effect of changes in the independent variable on the dependent variable are multiplicative rather than additive. The coefficients $b_0$ and $b_1$ are estimated from the data.\n",
    "\n",
    "Please note that this interpretation assumes that all other assumptions of linear regression (such as independence of errors) are met. If these assumptions are violated, then this interpretation may not be valid."
   ]
  },
  {
   "cell_type": "code",
   "execution_count": null,
   "metadata": {},
   "outputs": [],
   "source": [
    "# Import SimpleReg.RData to df\n",
    "print(df)"
   ]
  },
  {
   "cell_type": "code",
   "execution_count": null,
   "metadata": {},
   "outputs": [],
   "source": [
    "# Apply a filter if needed\n",
    "df_filter = df[df['Bathrooms'] == 1.0]\n",
    "print(df_filter)"
   ]
  },
  {
   "cell_type": "code",
   "execution_count": null,
   "metadata": {},
   "outputs": [],
   "source": [
    "# Handle missing or infinite values which might result from the conversion or the log transformation:\n",
    "df_filter = df_filter.replace([np.inf, -np.inf], np.nan)\n",
    "df_filter = df_filter.dropna(subset=['Age','Price'])"
   ]
  },
  {
   "cell_type": "code",
   "execution_count": null,
   "metadata": {},
   "outputs": [],
   "source": [
    "# Independent Variable X (Provide)\n",
    "# Apply a log transformation to the 'Bedrooms' column\n",
    "x = np.log(df[['Bedrooms']])\n",
    "\n",
    "# Dependent Variable Y (Predict)\n",
    "y = df[['Price']]\n",
    "\n",
    "# Create a LinearRegression object\n",
    "model = LinearRegression()\n",
    "\n",
    "# Fit the model\n",
    "model.fit(x, y)"
   ]
  },
  {
   "cell_type": "code",
   "execution_count": null,
   "metadata": {},
   "outputs": [],
   "source": [
    "# Plot the values and linear regression\n",
    "plt.scatter(x,y)\n",
    "plt.plot(x, model.predict(x), c='red')"
   ]
  },
  {
   "cell_type": "code",
   "execution_count": null,
   "metadata": {},
   "outputs": [],
   "source": [
    "# Print y-intercept\n",
    "# One dimensional array - specify which element before convert. to int\n",
    "print('y-Intercept = ' + str(float(model.intercept_[0])))\n",
    "\n",
    "# Print slope\n",
    "# Two dimensional array - specify which element before convert. to int\n",
    "print('Slope = ' + str(float(model.coef_[0][0])))"
   ]
  },
  {
   "cell_type": "code",
   "execution_count": null,
   "metadata": {},
   "outputs": [],
   "source": [
    "# Predict certain value\n",
    "def predicted_y(value):\n",
    "    predict = model.coef_ * value + model.intercept_\n",
    "    return predict\n",
    "\n",
    "# Insert value into function\n",
    "float(predicted_y(3)[0][0])"
   ]
  },
  {
   "cell_type": "markdown",
   "metadata": {},
   "source": [
    "---"
   ]
  },
  {
   "cell_type": "markdown",
   "metadata": {},
   "source": [
    "## Log - Log"
   ]
  },
  {
   "cell_type": "markdown",
   "metadata": {},
   "source": [
    "The equation for a log-log regression model is:\n",
    "\n",
    "$$\\log(y_i) = b_0 + b_1 \\cdot \\log(x_i) + e_i$$\n",
    "\n",
    "Here's how the terms correspond:\n",
    "\n",
    "- $\\log(y_i)$ is the natural logarithm of the dependent variable.\n",
    "- $b_0$ is the y-intercept.\n",
    "- $b_1$ is the slope of the line.\n",
    "- $\\log(x_i)$ is the natural logarithm of the independent variable.\n",
    "- $e_i$ is the error term, which accounts for the difference between the observed and predicted values.\n",
    "\n",
    "In this model, a one percent change in $x_i$ is associated with a $b_1$ percent change in $y_i$. This is because when both $y_i$ and $x_i$ are logged, the coefficient $b_1$ can be interpreted as an elasticity. The error term $e_i$ accounts for any random variation not explained by the model.\n",
    "\n",
    "This model assumes that the relationship between $\\log(x_i)$ and $\\log(y_i)$ is linear. It's often used in situations where the effect of changes in the independent variable on the dependent variable are multiplicative rather than additive. The coefficients $b_0$ and $b_1$ are estimated from the data.\n",
    "\n",
    "Please note that this interpretation assumes that all other assumptions of linear regression (such as independence of errors) are met. If these assumptions are violated, then this interpretation may not be valid."
   ]
  },
  {
   "cell_type": "code",
   "execution_count": null,
   "metadata": {},
   "outputs": [],
   "source": [
    "# Import SimpleReg.RData to df\n",
    "print(df)"
   ]
  },
  {
   "cell_type": "code",
   "execution_count": 131,
   "metadata": {},
   "outputs": [
    {
     "name": "stdout",
     "output_type": "stream",
     "text": [
      "       Price  Living Area  Bedrooms  Bathrooms  Fireplaces  Age\n",
      "0     142212         1982         3        1.0           0  133\n",
      "3     138297         1800         2        1.0           2   49\n",
      "4     129470         2088         3        1.0           1   29\n",
      "7     108794         1464         2        1.0           0   87\n",
      "8      68353         1216         2        1.0           0  101\n",
      "...      ...          ...       ...        ...         ...  ...\n",
      "1028  199733          840         2        1.0           0   50\n",
      "1030  106950         1472         3        1.0           1   28\n",
      "1037   67951         1040         2        1.0           0   19\n",
      "1038  121798         1308         3        1.0           0   29\n",
      "1047  107973         1388         3        1.0           0   60\n",
      "\n",
      "[197 rows x 6 columns]\n"
     ]
    }
   ],
   "source": [
    "# Apply a filter if needed\n",
    "df_filter = df[df['Bathrooms'] == 1.0]\n",
    "print(df_filter)"
   ]
  },
  {
   "cell_type": "code",
   "execution_count": null,
   "metadata": {},
   "outputs": [],
   "source": [
    "# Handle missing or infinite values which might result from the conversion or the log transformation:\n",
    "df_filter = df_filter.replace([np.inf, -np.inf], np.nan)\n",
    "df_filter = df_filter.dropna(subset=['Age','Price'])"
   ]
  },
  {
   "cell_type": "code",
   "execution_count": null,
   "metadata": {},
   "outputs": [],
   "source": [
    "# Independent Variable X (Provide)\n",
    "# Apply a log transformation to the 'Bedrooms' column\n",
    "x = np.log(df[['Bedrooms']])\n",
    "\n",
    "# Dependent Variable Y (Predict)\n",
    "# Apply a log transformation to the 'Price' column\n",
    "y = np.log(df[['Price']])\n",
    "\n",
    "# Create a LinearRegression object\n",
    "model = LinearRegression()\n",
    "\n",
    "# Fit the model\n",
    "model.fit(x, y)"
   ]
  },
  {
   "cell_type": "code",
   "execution_count": null,
   "metadata": {},
   "outputs": [],
   "source": [
    "# Plot the values and linear regression\n",
    "plt.scatter(x,y)\n",
    "plt.plot(x, model.predict(x), c='red')"
   ]
  },
  {
   "cell_type": "code",
   "execution_count": null,
   "metadata": {},
   "outputs": [],
   "source": [
    "# Print y-intercept\n",
    "# One dimensional array - specify which element before convert. to int\n",
    "print('y-Intercept = ' + str(float(model.intercept_[0])))\n",
    "\n",
    "# Print slope\n",
    "# Two dimensional array - specify which element before convert. to int\n",
    "print('Slope = ' + str(float(model.coef_[0][0])))"
   ]
  },
  {
   "cell_type": "code",
   "execution_count": null,
   "metadata": {},
   "outputs": [],
   "source": [
    "# Predict certain value\n",
    "def predicted_y(value):\n",
    "    predict = model.coef_ * value + model.intercept_\n",
    "    return predict\n",
    "\n",
    "# Insert value into function\n",
    "float(predicted_y(3)[0][0])"
   ]
  },
  {
   "cell_type": "markdown",
   "metadata": {},
   "source": [
    "---"
   ]
  },
  {
   "cell_type": "markdown",
   "metadata": {},
   "source": [
    "# "
   ]
  },
  {
   "cell_type": "markdown",
   "metadata": {},
   "source": [
    "<hr style=\"border-top: 15px dotted green; border-bottom: none;\">"
   ]
  },
  {
   "cell_type": "markdown",
   "metadata": {},
   "source": [
    "## Multiple Regression Model"
   ]
  },
  {
   "cell_type": "code",
   "execution_count": null,
   "metadata": {},
   "outputs": [],
   "source": [
    "# Visualize content of dataframe\n",
    "print(df)"
   ]
  },
  {
   "cell_type": "markdown",
   "metadata": {},
   "source": [
    "#### Define Variables"
   ]
  },
  {
   "cell_type": "code",
   "execution_count": null,
   "metadata": {},
   "outputs": [],
   "source": [
    "# Variable 1 (Provide)\n",
    "a = df[['Date']] \n",
    "\n",
    "# Variable 2 (Provide)\n",
    "b = df[['Receipts']]\n",
    "\n",
    "# Variable 3 (Provide)\n",
    "c = df[['Paid Attendance']]\n",
    "\n",
    "# Variable 4 (Provide)\n",
    "d = df[['Shows']]\n",
    "\n",
    "# Variable 5 (Provide)\n",
    "e = df[['Avg Ticket Price']]\n",
    "\n",
    "# Variable 6 (Provide)\n",
    "#f = df[['']]\n",
    "\n",
    "# Variable 7 (Provide)\n",
    "#g = df[['']]\n",
    "\n",
    "# Variable 8 (Provide)\n",
    "#h = df[['']]"
   ]
  },
  {
   "cell_type": "code",
   "execution_count": null,
   "metadata": {},
   "outputs": [],
   "source": [
    "# Define dependent variable\n",
    "Y = df['Paid Attendance']\n",
    "\n",
    "# Define independent variables\n",
    "X = df[['Date', 'Receipts', 'Shows', 'Avg Ticket Price']]\n",
    "\n",
    "# Create a Linear Regression object\n",
    "lm = LinearRegression()\n",
    "\n",
    "# Fit the model to the data\n",
    "lm.fit(X, Y)\n",
    "\n",
    "# Print out the coefficients\n",
    "print('Intercept: \\n', lm.intercept_)\n",
    "print('Coefficients: \\n', lm.coef_)"
   ]
  },
  {
   "cell_type": "markdown",
   "metadata": {},
   "source": [
    "# "
   ]
  },
  {
   "cell_type": "markdown",
   "metadata": {},
   "source": [
    "<hr style=\"border-top: 15px dotted red; border-bottom: none;\">"
   ]
  },
  {
   "cell_type": "markdown",
   "metadata": {},
   "source": [
    "<h1 style=\"color:lightblue;\">Class Exercises</h1>"
   ]
  },
  {
   "cell_type": "markdown",
   "metadata": {},
   "source": [
    "## Exercise Template"
   ]
  },
  {
   "cell_type": "markdown",
   "metadata": {},
   "source": []
  },
  {
   "cell_type": "code",
   "execution_count": null,
   "metadata": {},
   "outputs": [],
   "source": []
  }
 ],
 "metadata": {
  "kernelspec": {
   "display_name": "Python 3",
   "language": "python",
   "name": "python3"
  },
  "language_info": {
   "codemirror_mode": {
    "name": "ipython",
    "version": 3
   },
   "file_extension": ".py",
   "mimetype": "text/x-python",
   "name": "python",
   "nbconvert_exporter": "python",
   "pygments_lexer": "ipython3",
   "version": "3.9.6"
  },
  "orig_nbformat": 4
 },
 "nbformat": 4,
 "nbformat_minor": 2
}
