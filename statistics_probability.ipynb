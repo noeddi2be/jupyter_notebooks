{
 "cells": [
  {
   "cell_type": "markdown",
   "metadata": {},
   "source": [
    "<h1 style=\"color:lightblue;\">Statistics & Probability</h1>\n"
   ]
  },
  {
   "cell_type": "markdown",
   "metadata": {},
   "source": [
    "**This jupyter notebook is devided into different sections.**\n",
    "\n",
    "**Sections are devided by a <span style=\"color:red;\">red dotted</span> line.**"
   ]
  },
  {
   "cell_type": "markdown",
   "metadata": {},
   "source": [
    "<hr style=\"border-top: 3px dotted red; border-bottom: none;\">"
   ]
  },
  {
   "cell_type": "markdown",
   "metadata": {},
   "source": [
    "<h3 style=\"color:lightblue;\">Imports</h3>\n",
    "\n",
    "This section is importing all the libraries and modules that are needed for the Notebook to work."
   ]
  },
  {
   "cell_type": "markdown",
   "metadata": {},
   "source": [
    "<hr style=\"border-top: 3px dotted red; border-bottom: none;\">"
   ]
  },
  {
   "cell_type": "markdown",
   "metadata": {},
   "source": [
    "<h3 style=\"color:lightblue;\">Variables & Data</h3>\n",
    "\n",
    "This section is defining variables that can be used for different computations."
   ]
  },
  {
   "cell_type": "markdown",
   "metadata": {},
   "source": [
    "<hr style=\"border-top: 3px dotted red; border-bottom: none;\">"
   ]
  },
  {
   "cell_type": "markdown",
   "metadata": {},
   "source": [
    "<h3 style=\"color:lightblue;\">Basic Functions</h3>\n",
    "\n",
    "This section has basic functions that can be executed on the data."
   ]
  },
  {
   "cell_type": "markdown",
   "metadata": {},
   "source": [
    "<hr style=\"border-top: 3px dotted red; border-bottom: none;\">"
   ]
  },
  {
   "cell_type": "markdown",
   "metadata": {},
   "source": [
    "<h3 style=\"color:lightblue;\">Advanced Functions</h3>\n",
    "\n",
    "This section holds advanced statistics functions that can be executed on the data.\n",
    "\n",
    "Advanced functions are devided by a <span style=\"color:green;\">green dotted</span> line.\n"
   ]
  },
  {
   "cell_type": "markdown",
   "metadata": {},
   "source": [
    "<hr style=\"border-top: 3px dotted red; border-bottom: none;\">"
   ]
  },
  {
   "cell_type": "markdown",
   "metadata": {},
   "source": [
    "<h3 style=\"color:lightblue;\">Class Exercises</h3>\n",
    "\n",
    "This section holds class exercises.\n",
    "\n",
    "Class exercises are devided by a <span style=\"color:green;\">green dotted</span> line.\n"
   ]
  },
  {
   "cell_type": "markdown",
   "metadata": {},
   "source": [
    "<hr style=\"border-top: 15px dotted red; border-bottom: none;\">"
   ]
  },
  {
   "cell_type": "markdown",
   "metadata": {},
   "source": [
    "<h1 style=\"color:lightblue;\">Imports</h1>"
   ]
  },
  {
   "cell_type": "markdown",
   "metadata": {},
   "source": [
    "Imports need to be made when starting the notebook."
   ]
  },
  {
   "cell_type": "code",
   "execution_count": 1,
   "metadata": {},
   "outputs": [],
   "source": [
    "import os\n",
    "import pyreadr\n",
    "import numpy as np\n",
    "import matplotlib.pyplot as plt\n",
    "import pandas as pd\n",
    "from sklearn.linear_model import LinearRegression\n",
    "import rpy2.robjects as ro\n",
    "import rpy2.robjects.packages as rpackages\n",
    "from rpy2.robjects import pandas2ri"
   ]
  },
  {
   "cell_type": "markdown",
   "metadata": {},
   "source": [
    "# "
   ]
  },
  {
   "cell_type": "markdown",
   "metadata": {},
   "source": [
    "<hr style=\"border-top: 15px dotted red; border-bottom: none;\">"
   ]
  },
  {
   "cell_type": "markdown",
   "metadata": {},
   "source": [
    "<h1 style=\"color:lightblue;\">Variables & Data</h1>"
   ]
  },
  {
   "cell_type": "markdown",
   "metadata": {},
   "source": [
    "### Change to Data Directory\n",
    "This is needed to import directly from path!"
   ]
  },
  {
   "cell_type": "code",
   "execution_count": 2,
   "metadata": {},
   "outputs": [
    {
     "name": "stdout",
     "output_type": "stream",
     "text": [
      "total 96\n",
      "-rw-r--r--@ 1 mstring  staff  17829 Oct 13 15:47 SimpleReg.RData\n",
      "-rw-r--r--@ 1 mstring  staff  23881 Oct 13 15:48 housingprices.txt\n",
      "-rw-r--r--@ 1 mstring  staff   3212 Oct 20 08:41 ticketprices.txt\n"
     ]
    }
   ],
   "source": [
    "os.chdir('/Users/mstring/GitHub/FHNW-2023/Statistics/data')\n",
    "!ls -l\n"
   ]
  },
  {
   "cell_type": "markdown",
   "metadata": {},
   "source": [
    "---"
   ]
  },
  {
   "cell_type": "markdown",
   "metadata": {},
   "source": [
    "### Import R Data"
   ]
  },
  {
   "cell_type": "markdown",
   "metadata": {},
   "source": [
    "- rdata\n",
    "- dfr"
   ]
  },
  {
   "cell_type": "code",
   "execution_count": 67,
   "metadata": {},
   "outputs": [
    {
     "name": "stdout",
     "output_type": "stream",
     "text": [
      "odict_keys(['dat'])\n"
     ]
    }
   ],
   "source": [
    "# Importing R Data:\n",
    "rdata = pyreadr.read_r('SimpleReg.RData')\n",
    "print(rdata.keys())"
   ]
  },
  {
   "cell_type": "code",
   "execution_count": 68,
   "metadata": {},
   "outputs": [
    {
     "name": "stdout",
     "output_type": "stream",
     "text": [
      "      TENANT RENT  HOUSEHOLD_INCOME\n",
      "0      owner  NaN      15700.280447\n",
      "1     tenant  450       8724.000000\n",
      "2     tenant  383      46234.738788\n",
      "3      owner  NaN       9602.000000\n",
      "4      owner  NaN      13204.668742\n",
      "...      ...  ...               ...\n",
      "2255   owner  NaN      31281.600000\n",
      "2256   owner  NaN      33799.347338\n",
      "2257   owner  NaN      15500.000000\n",
      "2258   owner  NaN      57155.307740\n",
      "2259   owner  NaN      67895.600000\n",
      "\n",
      "[2260 rows x 3 columns]\n"
     ]
    }
   ],
   "source": [
    "# Converting R Data to a Dataframe:\n",
    "dfr = (rdata['dat'])\n",
    "print(dfr)"
   ]
  },
  {
   "cell_type": "markdown",
   "metadata": {},
   "source": [
    "---"
   ]
  },
  {
   "cell_type": "markdown",
   "metadata": {},
   "source": [
    "### Read a Text File\n"
   ]
  },
  {
   "cell_type": "markdown",
   "metadata": {},
   "source": [
    "- df"
   ]
  },
  {
   "cell_type": "code",
   "execution_count": 5,
   "metadata": {},
   "outputs": [],
   "source": [
    "# Read a text file with tab as separator on Mac and Fedora: \n",
    "df = pd.read_csv('housingprices.txt',  sep='\\t')\n",
    "#df = pd.read_csv('ticketprices.txt',  sep='\\t')"
   ]
  },
  {
   "cell_type": "code",
   "execution_count": null,
   "metadata": {},
   "outputs": [],
   "source": [
    "# Visualize content of dataframe\n",
    "print(df)"
   ]
  },
  {
   "cell_type": "markdown",
   "metadata": {},
   "source": [
    "---"
   ]
  },
  {
   "cell_type": "markdown",
   "metadata": {},
   "source": [
    "### Import AER Package"
   ]
  },
  {
   "cell_type": "code",
   "execution_count": null,
   "metadata": {},
   "outputs": [],
   "source": [
    "# Import the AER package\n",
    "AER = rpackages.importr('AER')\n",
    "\n",
    "# Load the Grunfeld dataset\n",
    "grunfeld_rdf = ro.r('data(\"Grunfeld\", package = \"AER\"); Grunfeld')\n",
    "\n",
    "# Convert the R dataframe to a pandas dataframe\n",
    "pandas2ri.activate()\n",
    "grunfeld_df = pandas2ri.rpy2py(grunfeld_rdf)\n",
    "\n",
    "print(grunfeld_df)"
   ]
  },
  {
   "cell_type": "markdown",
   "metadata": {},
   "source": [
    "# "
   ]
  },
  {
   "cell_type": "markdown",
   "metadata": {},
   "source": [
    "<hr style=\"border-top: 15px dotted red; border-bottom: none;\">"
   ]
  },
  {
   "cell_type": "markdown",
   "metadata": {},
   "source": [
    "<h1 style=\"color:lightblue;\">Basic Functions</h1>"
   ]
  },
  {
   "cell_type": "markdown",
   "metadata": {},
   "source": [
    "### Line Plot"
   ]
  },
  {
   "cell_type": "code",
   "execution_count": null,
   "metadata": {},
   "outputs": [],
   "source": [
    "# data defined locally\n",
    "years = [2006 + x for x in range(16)]\n",
    "weight = [80, 83, 84, 85, 86, 82, 81, 79, 79, 83, 80, 82, 82, \n",
    "          83, 81, 80]\n",
    "\n",
    "\n",
    "# print length\n",
    "print(len(years))\n",
    "print(len(weight))\n",
    "\n",
    "\n",
    "# plt.plot shows a line graph - standart behaviour\n",
    "plt.plot(years, weight, c='r', lw=3, linestyle='--')\n",
    "plt.show()"
   ]
  },
  {
   "cell_type": "markdown",
   "metadata": {},
   "source": [
    "---"
   ]
  },
  {
   "cell_type": "markdown",
   "metadata": {},
   "source": [
    "### Bar Plot"
   ]
  },
  {
   "cell_type": "code",
   "execution_count": null,
   "metadata": {},
   "outputs": [],
   "source": [
    "\"\"\"\n",
    "Args:\n",
    "    data is defined locally\n",
    "Returns:\n",
    "    basic bar plot\n",
    "\"\"\"\n",
    "\n",
    "x = ['C++', 'C#', 'Python', 'Java', 'Go']\n",
    "y = [20, 50, 140, 1, 4]\n",
    "\n",
    "\n",
    "plt.bar(x, y, color='blue', align='edge', width=0.5, edgecolor='green', linewidth=6)\n",
    "plt.show()"
   ]
  },
  {
   "cell_type": "markdown",
   "metadata": {},
   "source": [
    "---"
   ]
  },
  {
   "cell_type": "markdown",
   "metadata": {},
   "source": [
    "### Scatter Plot "
   ]
  },
  {
   "cell_type": "code",
   "execution_count": null,
   "metadata": {},
   "outputs": [],
   "source": [
    "# SimpleReg.RData \n",
    "print(dfr)"
   ]
  },
  {
   "cell_type": "code",
   "execution_count": null,
   "metadata": {},
   "outputs": [],
   "source": [
    "\"\"\"\n",
    "Args:\n",
    "    param1: dfr from housingprices.txt, format is a dataframe\n",
    "Returns:\n",
    "    scatter plot\n",
    "\"\"\"\n",
    "\n",
    "# Remove rows where 'RENT' is NaN\n",
    "dfr = dfr.dropna(subset=['RENT'])  \n",
    "\n",
    "plt.scatter(dfr['RENT'], dfr['HOUSEHOLD_INCOME'], c='red')\n",
    "plt.xlabel('Rent')\n",
    "plt.ylabel('Household Income')\n",
    "plt.title('Scatter plot of Rent vs Household Income')\n",
    "plt.show()"
   ]
  },
  {
   "cell_type": "markdown",
   "metadata": {},
   "source": [
    "---"
   ]
  },
  {
   "cell_type": "markdown",
   "metadata": {},
   "source": [
    "### Boxplot"
   ]
  },
  {
   "cell_type": "code",
   "execution_count": null,
   "metadata": {},
   "outputs": [],
   "source": [
    "# Import SimpleReg.RData to df\n",
    "print(df)"
   ]
  },
  {
   "cell_type": "code",
   "execution_count": null,
   "metadata": {},
   "outputs": [],
   "source": [
    "# Create Boxplot\n",
    "boxplot = df.boxplot(column = 'Price', by='Bedrooms')\n",
    "boxplot.set_ylabel('Price')\n",
    "boxplot.set_xlabel('Bedrooms')\n",
    "plt.show()"
   ]
  },
  {
   "cell_type": "markdown",
   "metadata": {},
   "source": [
    "---"
   ]
  },
  {
   "cell_type": "markdown",
   "metadata": {},
   "source": [
    "# "
   ]
  },
  {
   "cell_type": "markdown",
   "metadata": {},
   "source": [
    "<hr style=\"border-top: 15px dotted red; border-bottom: none;\">"
   ]
  },
  {
   "cell_type": "markdown",
   "metadata": {},
   "source": [
    "<h1 style=\"color:lightblue;\">Advanced Functions</h1>"
   ]
  },
  {
   "cell_type": "markdown",
   "metadata": {},
   "source": [
    "# Linear Regression with SKLearn"
   ]
  },
  {
   "cell_type": "markdown",
   "metadata": {},
   "source": [
    "## Level - Level"
   ]
  },
  {
   "cell_type": "markdown",
   "metadata": {},
   "source": [
    "The equation for a simple linear regression model is:\n",
    "\n",
    "$$y_i = b_0 + b_1 \\cdot x_i + e_i$$\n",
    "\n",
    "This can be compared to the equation of a line, which is:\n",
    "\n",
    "$$y = m \\cdot x + q$$\n",
    "\n",
    "Here's how the terms correspond:\n",
    "\n",
    "- $y_i$ is the dependent variable (like $y$ in the line equation).\n",
    "- $b_0$ is the y-intercept (like $q$ in the line equation).\n",
    "- $b_1$ is the slope of the line (like $m$ in the line equation).\n",
    "- $x_i$ is the independent variable (like $x$ in the line equation).\n",
    "- $e_i$ is the error term, which accounts for the difference between the observed and predicted values. This term doesn't have a direct equivalent in the simple line equation.\n",
    "\n",
    "In a statistical context, $y_i = b_0 + b_1 \\cdot x_i + e_i$ is a simple linear regression model, which predicts the dependent variable $y_i$ based on the independent variable $x_i$, with some error term $e_i$. The coefficients $b_0$ and $b_1$ are estimated from the data.\n"
   ]
  },
  {
   "cell_type": "code",
   "execution_count": null,
   "metadata": {},
   "outputs": [],
   "source": [
    "# Import SimpleReg.RData to df\n",
    "print(df)"
   ]
  },
  {
   "cell_type": "code",
   "execution_count": null,
   "metadata": {},
   "outputs": [],
   "source": [
    "# Apply a filter if needed\n",
    "df_filter = df[df['Bathrooms'] == 1.0]\n",
    "print(df_filter)"
   ]
  },
  {
   "cell_type": "code",
   "execution_count": 92,
   "metadata": {},
   "outputs": [],
   "source": [
    "# Handle missing or infinite values which might result from the conversion or the log transformation:\n",
    "df_filter = df_filter.replace([np.inf, -np.inf], np.nan)\n",
    "df_filter = df_filter.dropna(subset=['Age','Price'])"
   ]
  },
  {
   "cell_type": "code",
   "execution_count": null,
   "metadata": {},
   "outputs": [],
   "source": [
    "# Independent Variable X (Provide)\n",
    "x = df[['Bedrooms']]\n",
    "\n",
    "# Dependent Variable Y (Predict)\n",
    "y = df[['Price']]\n",
    "\n",
    "# Find the mean linear regression of all the values\n",
    "model = LinearRegression()\n",
    "model.fit(x,y)"
   ]
  },
  {
   "cell_type": "code",
   "execution_count": null,
   "metadata": {},
   "outputs": [],
   "source": [
    "# Plot the values and linear regression\n",
    "plt.scatter(x,y)\n",
    "plt.plot(x, model.predict(x), c='red')"
   ]
  },
  {
   "cell_type": "code",
   "execution_count": null,
   "metadata": {},
   "outputs": [],
   "source": [
    "# Print y-intercept\n",
    "# One dimensional array - specify which element before convert. to int\n",
    "print('y-Intercept = ' + str(float(model.intercept_[0])))\n",
    "\n",
    "# Print slope\n",
    "# Two dimensional array - specify which element before convert. to int\n",
    "print('Slope = ' + str(float(model.coef_[0][0])))"
   ]
  },
  {
   "cell_type": "code",
   "execution_count": null,
   "metadata": {},
   "outputs": [],
   "source": [
    "# Predict certain value\n",
    "def predicted_y(value):\n",
    "    predict = model.coef_ * value + model.intercept_\n",
    "    return predict\n",
    "\n",
    "# Insert value into function\n",
    "float(predicted_y(3)[0][0])"
   ]
  },
  {
   "cell_type": "markdown",
   "metadata": {},
   "source": [
    "---"
   ]
  },
  {
   "cell_type": "markdown",
   "metadata": {},
   "source": [
    "## Log - Level"
   ]
  },
  {
   "cell_type": "markdown",
   "metadata": {},
   "source": [
    "The equation for a log-level regression model is:\n",
    "\n",
    "$$\\log(y_i) = b_0 + b_1 \\cdot x_i + e_i$$\n",
    "\n",
    "Here's how the terms correspond:\n",
    "\n",
    "- $\\log(y_i)$ is the natural logarithm of the dependent variable.\n",
    "- $b_0$ is the y-intercept.\n",
    "- $b_1$ is the slope of the line.\n",
    "- $x_i$ is the independent variable.\n",
    "- $e_i$ is the error term, which accounts for the difference between the observed and predicted values.\n",
    "\n",
    "In this model, a one-unit change in $x_i$ is associated with a $b_1$ percent change in $y_i$. This is because when $y_i$ is logged, the coefficient $b_1$ can be interpreted as a percentage change rather than a unit change. The error term $e_i$ accounts for any random variation not explained by the model.\n",
    "\n",
    "This model assumes that the relationship between $x_i$ and $\\log(y_i)$ is linear. It's often used in situations where the effect of changes in the independent variable on the dependent variable are multiplicative rather than additive. The coefficients $b_0$ and $b_1$ are estimated from the data.\n",
    "\n",
    "Please note that this interpretation assumes that all other assumptions of linear regression (such as independence of errors) are met. If these assumptions are violated, then this interpretation may not be valid.\n"
   ]
  },
  {
   "cell_type": "code",
   "execution_count": null,
   "metadata": {},
   "outputs": [],
   "source": [
    "# Import SimpleReg.RData to df\n",
    "print(df)"
   ]
  },
  {
   "cell_type": "code",
   "execution_count": null,
   "metadata": {},
   "outputs": [],
   "source": [
    "# Apply a filter if needed\n",
    "df_filter = df[df['Bathrooms'] == 1.0]\n",
    "print(df_filter)"
   ]
  },
  {
   "cell_type": "code",
   "execution_count": null,
   "metadata": {},
   "outputs": [],
   "source": [
    "# Handle missing or infinite values which might result from the conversion or the log transformation:\n",
    "df_filter = df_filter.replace([np.inf, -np.inf], np.nan)\n",
    "df_filter = df_filter.dropna(subset=['Age','Price'])"
   ]
  },
  {
   "cell_type": "code",
   "execution_count": null,
   "metadata": {},
   "outputs": [],
   "source": [
    "# Independent Variable X (Provide)\n",
    "x = df[['Bedrooms']]\n",
    "\n",
    "# Dependent Variable Y (Predict)\n",
    "# Apply a log transformation to the 'Price' column\n",
    "y = np.log(df[['Price']])\n",
    "\n",
    "# Create a LinearRegression object\n",
    "model = LinearRegression()\n",
    "\n",
    "# Fit the model\n",
    "model.fit(x, y)"
   ]
  },
  {
   "cell_type": "code",
   "execution_count": null,
   "metadata": {},
   "outputs": [],
   "source": [
    "# Plot the values and linear regression\n",
    "plt.scatter(x,y)\n",
    "plt.plot(x, model.predict(x), c='red')"
   ]
  },
  {
   "cell_type": "code",
   "execution_count": null,
   "metadata": {},
   "outputs": [],
   "source": [
    "# Print y-intercept\n",
    "# One dimensional array - specify which element before convert. to int\n",
    "print('y-Intercept = ' + str(float(model.intercept_[0])))\n",
    "\n",
    "# Print slope\n",
    "# Two dimensional array - specify which element before convert. to int\n",
    "print('Slope = ' + str(float(model.coef_[0][0])))"
   ]
  },
  {
   "cell_type": "code",
   "execution_count": null,
   "metadata": {},
   "outputs": [],
   "source": [
    "# Predict certain value\n",
    "def predicted_y(value):\n",
    "    predict = model.coef_ * value + model.intercept_\n",
    "    return predict\n",
    "\n",
    "# Insert value into function\n",
    "float(predicted_y(3)[0][0])"
   ]
  },
  {
   "cell_type": "markdown",
   "metadata": {},
   "source": [
    "---"
   ]
  },
  {
   "cell_type": "markdown",
   "metadata": {},
   "source": [
    "## Level - Log"
   ]
  },
  {
   "cell_type": "markdown",
   "metadata": {},
   "source": [
    "The equation for a level-log regression model is:\n",
    "\n",
    "$$y_i = b_0 + b_1 \\cdot \\log(x_i) + e_i$$\n",
    "\n",
    "Here's how the terms correspond:\n",
    "\n",
    "- $y_i$ is the dependent variable.\n",
    "- $b_0$ is the y-intercept.\n",
    "- $b_1$ is the slope of the line.\n",
    "- $\\log(x_i)$ is the natural logarithm of the independent variable.\n",
    "- $e_i$ is the error term, which accounts for the difference between the observed and predicted values.\n",
    "\n",
    "In this model, a one percent change in $x_i$ is associated with a change of $(0.01 \\cdot b_1)$ units in $y_i$. This is because when $x_i$ is logged, the coefficient $b_1$ can be interpreted as a semi-elasticity. The error term $e_i$ accounts for any random variation not explained by the model.\n",
    "\n",
    "This model assumes that the relationship between $\\log(x_i)$ and $y_i$ is linear. It's often used in situations where the effect of changes in the independent variable on the dependent variable are multiplicative rather than additive. The coefficients $b_0$ and $b_1$ are estimated from the data.\n",
    "\n",
    "Please note that this interpretation assumes that all other assumptions of linear regression (such as independence of errors) are met. If these assumptions are violated, then this interpretation may not be valid."
   ]
  },
  {
   "cell_type": "code",
   "execution_count": null,
   "metadata": {},
   "outputs": [],
   "source": [
    "# Import SimpleReg.RData to df\n",
    "print(df)"
   ]
  },
  {
   "cell_type": "code",
   "execution_count": null,
   "metadata": {},
   "outputs": [],
   "source": [
    "# Apply a filter if needed\n",
    "df_filter = df[df['Bathrooms'] == 1.0]\n",
    "print(df_filter)"
   ]
  },
  {
   "cell_type": "code",
   "execution_count": 97,
   "metadata": {},
   "outputs": [],
   "source": [
    "# Handle missing or infinite values which might result from the conversion or the log transformation:\n",
    "df_filter = df_filter.replace([np.inf, -np.inf], np.nan)\n",
    "df_filter = df_filter.dropna(subset=['Age','Price'])"
   ]
  },
  {
   "cell_type": "code",
   "execution_count": null,
   "metadata": {},
   "outputs": [],
   "source": [
    "# Independent Variable X (Provide)\n",
    "# Apply a log transformation to the 'Bedrooms' column\n",
    "x = np.log(df[['Bedrooms']])\n",
    "\n",
    "# Dependent Variable Y (Predict)\n",
    "y = df[['Price']]\n",
    "\n",
    "# Create a LinearRegression object\n",
    "model = LinearRegression()\n",
    "\n",
    "# Fit the model\n",
    "model.fit(x, y)"
   ]
  },
  {
   "cell_type": "code",
   "execution_count": null,
   "metadata": {},
   "outputs": [],
   "source": [
    "# Plot the values and linear regression\n",
    "plt.scatter(x,y)\n",
    "plt.plot(x, model.predict(x), c='red')"
   ]
  },
  {
   "cell_type": "code",
   "execution_count": null,
   "metadata": {},
   "outputs": [],
   "source": [
    "# Print y-intercept\n",
    "# One dimensional array - specify which element before convert. to int\n",
    "print('y-Intercept = ' + str(float(model.intercept_[0])))\n",
    "\n",
    "# Print slope\n",
    "# Two dimensional array - specify which element before convert. to int\n",
    "print('Slope = ' + str(float(model.coef_[0][0])))"
   ]
  },
  {
   "cell_type": "code",
   "execution_count": null,
   "metadata": {},
   "outputs": [],
   "source": [
    "# Predict certain value\n",
    "def predicted_y(value):\n",
    "    predict = model.coef_ * value + model.intercept_\n",
    "    return predict\n",
    "\n",
    "# Insert value into function\n",
    "float(predicted_y(3)[0][0])"
   ]
  },
  {
   "cell_type": "markdown",
   "metadata": {},
   "source": [
    "---"
   ]
  },
  {
   "cell_type": "markdown",
   "metadata": {},
   "source": [
    "## Log - Log"
   ]
  },
  {
   "cell_type": "markdown",
   "metadata": {},
   "source": [
    "The equation for a log-log regression model is:\n",
    "\n",
    "$$\\log(y_i) = b_0 + b_1 \\cdot \\log(x_i) + e_i$$\n",
    "\n",
    "Here's how the terms correspond:\n",
    "\n",
    "- $\\log(y_i)$ is the natural logarithm of the dependent variable.\n",
    "- $b_0$ is the y-intercept.\n",
    "- $b_1$ is the slope of the line.\n",
    "- $\\log(x_i)$ is the natural logarithm of the independent variable.\n",
    "- $e_i$ is the error term, which accounts for the difference between the observed and predicted values.\n",
    "\n",
    "In this model, a one percent change in $x_i$ is associated with a $b_1$ percent change in $y_i$. This is because when both $y_i$ and $x_i$ are logged, the coefficient $b_1$ can be interpreted as an elasticity. The error term $e_i$ accounts for any random variation not explained by the model.\n",
    "\n",
    "This model assumes that the relationship between $\\log(x_i)$ and $\\log(y_i)$ is linear. It's often used in situations where the effect of changes in the independent variable on the dependent variable are multiplicative rather than additive. The coefficients $b_0$ and $b_1$ are estimated from the data.\n",
    "\n",
    "Please note that this interpretation assumes that all other assumptions of linear regression (such as independence of errors) are met. If these assumptions are violated, then this interpretation may not be valid."
   ]
  },
  {
   "cell_type": "code",
   "execution_count": null,
   "metadata": {},
   "outputs": [],
   "source": [
    "# Import SimpleReg.RData to df\n",
    "print(df)"
   ]
  },
  {
   "cell_type": "code",
   "execution_count": null,
   "metadata": {},
   "outputs": [],
   "source": [
    "# Apply a filter if needed\n",
    "df_filter = df[df['Bathrooms'] == 1.0]\n",
    "print(df_filter)"
   ]
  },
  {
   "cell_type": "code",
   "execution_count": null,
   "metadata": {},
   "outputs": [],
   "source": [
    "# Handle missing or infinite values which might result from the conversion or the log transformation:\n",
    "df_filter = df_filter.replace([np.inf, -np.inf], np.nan)\n",
    "df_filter = df_filter.dropna(subset=['Age','Price'])"
   ]
  },
  {
   "cell_type": "code",
   "execution_count": null,
   "metadata": {},
   "outputs": [],
   "source": [
    "# Independent Variable X (Provide)\n",
    "# Apply a log transformation to the 'Bedrooms' column\n",
    "x = np.log(df[['Bedrooms']])\n",
    "\n",
    "# Dependent Variable Y (Predict)\n",
    "# Apply a log transformation to the 'Price' column\n",
    "y = np.log(df[['Price']])\n",
    "\n",
    "# Create a LinearRegression object\n",
    "model = LinearRegression()\n",
    "\n",
    "# Fit the model\n",
    "model.fit(x, y)"
   ]
  },
  {
   "cell_type": "code",
   "execution_count": null,
   "metadata": {},
   "outputs": [],
   "source": [
    "# Plot the values and linear regression\n",
    "plt.scatter(x,y)\n",
    "plt.plot(x, model.predict(x), c='red')"
   ]
  },
  {
   "cell_type": "code",
   "execution_count": null,
   "metadata": {},
   "outputs": [],
   "source": [
    "# Print y-intercept\n",
    "# One dimensional array - specify which element before convert. to int\n",
    "print('y-Intercept = ' + str(float(model.intercept_[0])))\n",
    "\n",
    "# Print slope\n",
    "# Two dimensional array - specify which element before convert. to int\n",
    "print('Slope = ' + str(float(model.coef_[0][0])))"
   ]
  },
  {
   "cell_type": "code",
   "execution_count": null,
   "metadata": {},
   "outputs": [],
   "source": [
    "# Predict certain value\n",
    "def predicted_y(value):\n",
    "    predict = model.coef_ * value + model.intercept_\n",
    "    return predict\n",
    "\n",
    "# Insert value into function\n",
    "float(predicted_y(3)[0][0])"
   ]
  },
  {
   "cell_type": "markdown",
   "metadata": {},
   "source": [
    "# "
   ]
  },
  {
   "cell_type": "markdown",
   "metadata": {},
   "source": [
    "<hr style=\"border-top: 15px dotted green; border-bottom: none;\">"
   ]
  },
  {
   "cell_type": "markdown",
   "metadata": {},
   "source": [
    "## Multiple Regression Model"
   ]
  },
  {
   "cell_type": "code",
   "execution_count": null,
   "metadata": {},
   "outputs": [],
   "source": [
    "# Visualize content of dataframe\n",
    "print(df)"
   ]
  },
  {
   "cell_type": "markdown",
   "metadata": {},
   "source": [
    "#### Define Variables"
   ]
  },
  {
   "cell_type": "code",
   "execution_count": 11,
   "metadata": {},
   "outputs": [],
   "source": [
    "# Variable 1 (Provide)\n",
    "a = df[['Date']] \n",
    "\n",
    "# Variable 2 (Provide)\n",
    "b = df[['Receipts']]\n",
    "\n",
    "# Variable 3 (Provide)\n",
    "c = df[['Paid Attendance']]\n",
    "\n",
    "# Variable 4 (Provide)\n",
    "d = df[['Shows']]\n",
    "\n",
    "# Variable 5 (Provide)\n",
    "e = df[['Avg Ticket Price']]\n",
    "\n",
    "# Variable 6 (Provide)\n",
    "#f = df[['']]\n",
    "\n",
    "# Variable 7 (Provide)\n",
    "#g = df[['']]\n",
    "\n",
    "# Variable 8 (Provide)\n",
    "#h = df[['']]"
   ]
  },
  {
   "cell_type": "code",
   "execution_count": null,
   "metadata": {},
   "outputs": [],
   "source": [
    "# Define dependent variable\n",
    "Y = df['Paid Attendance']\n",
    "\n",
    "# Define independent variables\n",
    "X = df[['Date', 'Receipts', 'Shows', 'Avg Ticket Price']]\n",
    "\n",
    "# Create a Linear Regression object\n",
    "lm = LinearRegression()\n",
    "\n",
    "# Fit the model to the data\n",
    "lm.fit(X, Y)\n",
    "\n",
    "# Print out the coefficients\n",
    "print('Intercept: \\n', lm.intercept_)\n",
    "print('Coefficients: \\n', lm.coef_)"
   ]
  },
  {
   "cell_type": "markdown",
   "metadata": {},
   "source": [
    "# "
   ]
  },
  {
   "cell_type": "markdown",
   "metadata": {},
   "source": [
    "<hr style=\"border-top: 15px dotted red; border-bottom: none;\">"
   ]
  },
  {
   "cell_type": "markdown",
   "metadata": {},
   "source": [
    "<h1 style=\"color:lightblue;\">Class Exercises</h1>"
   ]
  },
  {
   "cell_type": "markdown",
   "metadata": {},
   "source": [
    "## Class Exercise Law of Lagre Numbers"
   ]
  },
  {
   "cell_type": "code",
   "execution_count": 18,
   "metadata": {},
   "outputs": [
    {
     "data": {
      "image/png": "[encoded data removed]",
      "text/plain": [
       "<Figure size 640x480 with 1 Axes>"
      ]
     },
     "metadata": {},
     "output_type": "display_data"
    }
   ],
   "source": [
    "# Show the approximation to 0.5 with a large number of tosses\n",
    "# Empirical Probability\n",
    "# Number of tosses\n",
    "n_tosses = 1000\n",
    "\n",
    "# Simulate coin tosses (0 = tails, 1 = heads)\n",
    "tosses = np.random.randint(0, 2, size=n_tosses)\n",
    "\n",
    "# Calculate cumulative sum of heads\n",
    "cumulative_heads = np.cumsum(tosses)\n",
    "\n",
    "# Calculate proportion of heads\n",
    "proportion_heads = cumulative_heads / np.arange(1, n_tosses + 1)\n",
    "\n",
    "# Create a figure and axis\n",
    "fig, ax = plt.subplots()\n",
    "\n",
    "# Plot the proportion of heads\n",
    "ax.semilogx(np.arange(1, n_tosses + 1), proportion_heads)\n",
    "\n",
    "# Set labels and title\n",
    "ax.set_xlabel('Number of Tosses (log scale)')\n",
    "ax.set_ylabel('Proportion of Heads')\n",
    "ax.set_title('Proportion of Heads in Coin Toss Simulation')\n",
    "\n",
    "# Show the plot\n",
    "plt.show()\n"
   ]
  },
  {
   "cell_type": "markdown",
   "metadata": {},
   "source": [
    "# "
   ]
  },
  {
   "cell_type": "markdown",
   "metadata": {},
   "source": [
    "<hr style=\"border-top: 15px dotted green; border-bottom: none;\">"
   ]
  },
  {
   "cell_type": "markdown",
   "metadata": {},
   "source": [
    "## Log - Log - Excercise 3&4 - nr1"
   ]
  },
  {
   "cell_type": "markdown",
   "metadata": {},
   "source": [
    "The equation for a log-log regression model is:\n",
    "\n",
    "$$\\log(y_i) = b_0 + b_1 \\cdot \\log(x_i) + e_i$$\n",
    "\n",
    "Here's how the terms correspond:\n",
    "\n",
    "- $\\log(y_i)$ is the natural logarithm of the dependent variable.\n",
    "- $b_0$ is the y-intercept.\n",
    "- $b_1$ is the slope of the line.\n",
    "- $\\log(x_i)$ is the natural logarithm of the independent variable.\n",
    "- $e_i$ is the error term, which accounts for the difference between the observed and predicted values.\n",
    "\n",
    "In this model, a one percent change in $x_i$ is associated with a $b_1$ percent change in $y_i$. This is because when both $y_i$ and $x_i$ are logged, the coefficient $b_1$ can be interpreted as an elasticity. The error term $e_i$ accounts for any random variation not explained by the model.\n",
    "\n",
    "This model assumes that the relationship between $\\log(x_i)$ and $\\log(y_i)$ is linear. It's often used in situations where the effect of changes in the independent variable on the dependent variable are multiplicative rather than additive. The coefficients $b_0$ and $b_1$ are estimated from the data.\n",
    "\n",
    "Please note that this interpretation assumes that all other assumptions of linear regression (such as independence of errors) are met. If these assumptions are violated, then this interpretation may not be valid."
   ]
  },
  {
   "cell_type": "code",
   "execution_count": null,
   "metadata": {},
   "outputs": [],
   "source": [
    "# Filter the data to include only tenants\n",
    "dfr_filter = dfr[dfr['TENANT'] == 'tenant']\n",
    "print(dfr_filter)"
   ]
  },
  {
   "cell_type": "code",
   "execution_count": 73,
   "metadata": {},
   "outputs": [],
   "source": [
    "# Handle missing or infinite values which might result from the conversion or the log transformation:\n",
    "dfr_filter = dfr_filter.replace([np.inf, -np.inf], np.nan)\n",
    "dfr_filter = dfr_filter.dropna(subset=['RENT','HOUSEHOLD_INCOME'])"
   ]
  },
  {
   "cell_type": "code",
   "execution_count": null,
   "metadata": {},
   "outputs": [],
   "source": [
    "print(dfr_filter[['HOUSEHOLD_INCOME']])"
   ]
  },
  {
   "cell_type": "code",
   "execution_count": null,
   "metadata": {},
   "outputs": [],
   "source": [
    "print(dfr_filter['RENT'])"
   ]
  },
  {
   "cell_type": "code",
   "execution_count": 76,
   "metadata": {},
   "outputs": [],
   "source": [
    "# Independent Variable X (Provide)\n",
    "# Apply a log transformation to the 'Bedrooms' column\n",
    "x = np.log(dfr_filter[['HOUSEHOLD_INCOME']])"
   ]
  },
  {
   "cell_type": "code",
   "execution_count": 77,
   "metadata": {},
   "outputs": [],
   "source": [
    "# Dependent Variable Y (Predict)\n",
    "# Apply a log transformation to the 'Price' column\n",
    "y = np.log(dfr_filter[['RENT']])"
   ]
  },
  {
   "cell_type": "code",
   "execution_count": 78,
   "metadata": {},
   "outputs": [
    {
     "data": {
      "text/html": [
       "<style>#sk-container-id-7 {color: black;}#sk-container-id-7 pre{padding: 0;}#sk-container-id-7 div.sk-toggleable {background-color: white;}#sk-container-id-7 label.sk-toggleable__label {cursor: pointer;display: block;width: 100%;margin-bottom: 0;padding: 0.3em;box-sizing: border-box;text-align: center;}#sk-container-id-7 label.sk-toggleable__label-arrow:before {content: \"▸\";float: left;margin-right: 0.25em;color: #696969;}#sk-container-id-7 label.sk-toggleable__label-arrow:hover:before {color: black;}#sk-container-id-7 div.sk-estimator:hover label.sk-toggleable__label-arrow:before {color: black;}#sk-container-id-7 div.sk-toggleable__content {max-height: 0;max-width: 0;overflow: hidden;text-align: left;background-color: #f0f8ff;}#sk-container-id-7 div.sk-toggleable__content pre {margin: 0.2em;color: black;border-radius: 0.25em;background-color: #f0f8ff;}#sk-container-id-7 input.sk-toggleable__control:checked~div.sk-toggleable__content {max-height: 200px;max-width: 100%;overflow: auto;}#sk-container-id-7 input.sk-toggleable__control:checked~label.sk-toggleable__label-arrow:before {content: \"▾\";}#sk-container-id-7 div.sk-estimator input.sk-toggleable__control:checked~label.sk-toggleable__label {background-color: #d4ebff;}#sk-container-id-7 div.sk-label input.sk-toggleable__control:checked~label.sk-toggleable__label {background-color: #d4ebff;}#sk-container-id-7 input.sk-hidden--visually {border: 0;clip: rect(1px 1px 1px 1px);clip: rect(1px, 1px, 1px, 1px);height: 1px;margin: -1px;overflow: hidden;padding: 0;position: absolute;width: 1px;}#sk-container-id-7 div.sk-estimator {font-family: monospace;background-color: #f0f8ff;border: 1px dotted black;border-radius: 0.25em;box-sizing: border-box;margin-bottom: 0.5em;}#sk-container-id-7 div.sk-estimator:hover {background-color: #d4ebff;}#sk-container-id-7 div.sk-parallel-item::after {content: \"\";width: 100%;border-bottom: 1px solid gray;flex-grow: 1;}#sk-container-id-7 div.sk-label:hover label.sk-toggleable__label {background-color: #d4ebff;}#sk-container-id-7 div.sk-serial::before {content: \"\";position: absolute;border-left: 1px solid gray;box-sizing: border-box;top: 0;bottom: 0;left: 50%;z-index: 0;}#sk-container-id-7 div.sk-serial {display: flex;flex-direction: column;align-items: center;background-color: white;padding-right: 0.2em;padding-left: 0.2em;position: relative;}#sk-container-id-7 div.sk-item {position: relative;z-index: 1;}#sk-container-id-7 div.sk-parallel {display: flex;align-items: stretch;justify-content: center;background-color: white;position: relative;}#sk-container-id-7 div.sk-item::before, #sk-container-id-7 div.sk-parallel-item::before {content: \"\";position: absolute;border-left: 1px solid gray;box-sizing: border-box;top: 0;bottom: 0;left: 50%;z-index: -1;}#sk-container-id-7 div.sk-parallel-item {display: flex;flex-direction: column;z-index: 1;position: relative;background-color: white;}#sk-container-id-7 div.sk-parallel-item:first-child::after {align-self: flex-end;width: 50%;}#sk-container-id-7 div.sk-parallel-item:last-child::after {align-self: flex-start;width: 50%;}#sk-container-id-7 div.sk-parallel-item:only-child::after {width: 0;}#sk-container-id-7 div.sk-dashed-wrapped {border: 1px dashed gray;margin: 0 0.4em 0.5em 0.4em;box-sizing: border-box;padding-bottom: 0.4em;background-color: white;}#sk-container-id-7 div.sk-label label {font-family: monospace;font-weight: bold;display: inline-block;line-height: 1.2em;}#sk-container-id-7 div.sk-label-container {text-align: center;}#sk-container-id-7 div.sk-container {/* jupyter's `normalize.less` sets `[hidden] { display: none; }` but bootstrap.min.css set `[hidden] { display: none !important; }` so we also need the `!important` here to be able to override the default hidden behavior on the sphinx rendered scikit-learn.org. See: https://github.com/scikit-learn/scikit-learn/issues/21755 */display: inline-block !important;position: relative;}#sk-container-id-7 div.sk-text-repr-fallback {display: none;}</style><div id=\"sk-container-id-7\" class=\"sk-top-container\"><div class=\"sk-text-repr-fallback\"><pre>LinearRegression()</pre><b>In a Jupyter environment, please rerun this cell to show the HTML representation or trust the notebook. <br />On GitHub, the HTML representation is unable to render, please try loading this page with nbviewer.org.</b></div><div class=\"sk-container\" hidden><div class=\"sk-item\"><div class=\"sk-estimator sk-toggleable\"><input class=\"sk-toggleable__control sk-hidden--visually\" id=\"sk-estimator-id-7\" type=\"checkbox\" checked><label for=\"sk-estimator-id-7\" class=\"sk-toggleable__label sk-toggleable__label-arrow\">LinearRegression</label><div class=\"sk-toggleable__content\"><pre>LinearRegression()</pre></div></div></div></div></div>"
      ],
      "text/plain": [
       "LinearRegression()"
      ]
     },
     "execution_count": 78,
     "metadata": {},
     "output_type": "execute_result"
    }
   ],
   "source": [
    "# Create a LinearRegression object\n",
    "model = LinearRegression()\n",
    "\n",
    "# Fit the model\n",
    "model.fit(x, y)"
   ]
  },
  {
   "cell_type": "code",
   "execution_count": null,
   "metadata": {},
   "outputs": [],
   "source": [
    "# Plot the values and linear regression\n",
    "plt.scatter(x,y)\n",
    "plt.plot(x, model.predict(x), c='red')"
   ]
  },
  {
   "cell_type": "code",
   "execution_count": 83,
   "metadata": {},
   "outputs": [
    {
     "name": "stdout",
     "output_type": "stream",
     "text": [
      "y-Intercept = 3.7811401542901386\n",
      "Slope = 0.19829142767806807\n"
     ]
    }
   ],
   "source": [
    "# Print y-intercept\n",
    "# One dimensional array - specify which element before convert. to int\n",
    "print('y-Intercept = ' + str(float(model.intercept_[0])))\n",
    "\n",
    "# Print slope\n",
    "# Two dimensional array - specify which element before convert. to int\n",
    "print('Slope = ' + str(float(model.coef_[0][0])))"
   ]
  },
  {
   "cell_type": "code",
   "execution_count": 81,
   "metadata": {},
   "outputs": [
    {
     "data": {
      "text/plain": [
       "4"
      ]
     },
     "execution_count": 81,
     "metadata": {},
     "output_type": "execute_result"
    }
   ],
   "source": [
    "# Predict certain value\n",
    "def predicted_y(value):\n",
    "    predict = model.coef_ * value + model.intercept_\n",
    "    return predict\n",
    "\n",
    "# Insert value into function\n",
    "int(predicted_y(3)[0][0])"
   ]
  },
  {
   "cell_type": "markdown",
   "metadata": {},
   "source": [
    "# "
   ]
  },
  {
   "cell_type": "markdown",
   "metadata": {},
   "source": [
    "<hr style=\"border-top: 15px dotted green; border-bottom: none;\">"
   ]
  },
  {
   "cell_type": "markdown",
   "metadata": {},
   "source": [
    "## Exercise Template"
   ]
  },
  {
   "cell_type": "markdown",
   "metadata": {},
   "source": []
  },
  {
   "cell_type": "code",
   "execution_count": null,
   "metadata": {},
   "outputs": [],
   "source": []
  },
  {
   "cell_type": "markdown",
   "metadata": {},
   "source": [
    "# "
   ]
  },
  {
   "cell_type": "markdown",
   "metadata": {},
   "source": [
    "<hr style=\"border-top: 15px dotted green; border-bottom: none;\">"
   ]
  }
 ],
 "metadata": {
  "kernelspec": {
   "display_name": "Python 3",
   "language": "python",
   "name": "python3"
  },
  "language_info": {
   "codemirror_mode": {
    "name": "ipython",
    "version": 3
   },
   "file_extension": ".py",
   "mimetype": "text/x-python",
   "name": "python",
   "nbconvert_exporter": "python",
   "pygments_lexer": "ipython3",
   "version": "3.9.6"
  },
  "orig_nbformat": 4
 },
 "nbformat": 4,
 "nbformat_minor": 2
}
