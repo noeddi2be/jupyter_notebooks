{
 "cells": [
  {
   "cell_type": "code",
   "execution_count": 2,
   "metadata": {},
   "outputs": [],
   "source": [
    "import os\n",
    "import pyreadr\n",
    "import numpy as np\n",
    "import matplotlib.pyplot as plt\n",
    "import pandas as pd\n",
    "from sklearn.linear_model import LinearRegression\n",
    "import statistics\n",
    "import rpy2.robjects as ro\n",
    "import rpy2.robjects.packages as rpackages\n",
    "from rpy2.robjects import pandas2ri"
   ]
  },
  {
   "cell_type": "code",
   "execution_count": 3,
   "metadata": {},
   "outputs": [
    {
     "name": "stdout",
     "output_type": "stream",
     "text": [
      "total 96\n",
      "-rw-r--r--@ 1 mstring  staff  17829 Oct 13 15:47 SimpleReg.RData\n",
      "-rw-r--r--@ 1 mstring  staff  23881 Oct 13 15:48 housingprices.txt\n",
      "-rw-r--r--@ 1 mstring  staff   3212 Oct 20 08:41 ticketprices.txt\n"
     ]
    }
   ],
   "source": [
    "os.chdir('/Users/mstring/GitHub/FHNW-2023/Statistics/data')\n",
    "!ls -l"
   ]
  },
  {
   "cell_type": "markdown",
   "metadata": {},
   "source": [
    "## Exercise Template"
   ]
  },
  {
   "cell_type": "markdown",
   "metadata": {},
   "source": []
  },
  {
   "cell_type": "code",
   "execution_count": null,
   "metadata": {},
   "outputs": [],
   "source": []
  },
  {
   "cell_type": "markdown",
   "metadata": {},
   "source": [
    "---"
   ]
  },
  {
   "cell_type": "markdown",
   "metadata": {},
   "source": [
    "## Just an Exercise "
   ]
  },
  {
   "cell_type": "code",
   "execution_count": null,
   "metadata": {},
   "outputs": [],
   "source": [
    "import scipy.stats as stats\n",
    "\n",
    "# set seed\n",
    "np.random.seed(1234)\n",
    "\n",
    "# generate 100 random numbers\n",
    "x = np.random.normal(size=100)\n",
    "\n",
    "# plot histogram\n",
    "plt.hist(x)\n",
    "plt.show()\n",
    "\n",
    "# generate QQ plot\n",
    "stats.probplot(x, plot=plt)\n",
    "plt.show()\n"
   ]
  },
  {
   "cell_type": "markdown",
   "metadata": {},
   "source": [
    "---"
   ]
  },
  {
   "cell_type": "markdown",
   "metadata": {},
   "source": [
    "## Class Exercise Law of Lagre Numbers"
   ]
  },
  {
   "cell_type": "code",
   "execution_count": null,
   "metadata": {},
   "outputs": [],
   "source": [
    "# Show the approximation to 0.5 with a large number of tosses\n",
    "# Empirical Probability\n",
    "# Number of tosses\n",
    "n_tosses = 1000\n",
    "\n",
    "# Simulate coin tosses (0 = tails, 1 = heads)\n",
    "tosses = np.random.randint(0, 2, size=n_tosses)\n",
    "\n",
    "# Calculate cumulative sum of heads\n",
    "cumulative_heads = np.cumsum(tosses)\n",
    "\n",
    "# Calculate proportion of heads\n",
    "proportion_heads = cumulative_heads / np.arange(1, n_tosses + 1)\n",
    "\n",
    "# Create a figure and axis\n",
    "fig, ax = plt.subplots()\n",
    "\n",
    "# Plot the proportion of heads\n",
    "ax.semilogx(np.arange(1, n_tosses + 1), proportion_heads)\n",
    "\n",
    "# Set labels and title\n",
    "ax.set_xlabel('Number of Tosses (log scale)')\n",
    "ax.set_ylabel('Proportion of Heads')\n",
    "ax.set_title('Proportion of Heads in Coin Toss Simulation')\n",
    "\n",
    "# Show the plot\n",
    "plt.show()\n"
   ]
  },
  {
   "cell_type": "markdown",
   "metadata": {},
   "source": [
    "---"
   ]
  },
  {
   "cell_type": "markdown",
   "metadata": {},
   "source": [
    "The equation for a log-log regression model is:\n",
    "\n",
    "$$\\log(y_i) = b_0 + b_1 \\cdot \\log(x_i) + e_i$$\n",
    "\n",
    "Here's how the terms correspond:\n",
    "\n",
    "- $\\log(y_i)$ is the natural logarithm of the dependent variable.\n",
    "- $b_0$ is the y-intercept.\n",
    "- $b_1$ is the slope of the line.\n",
    "- $\\log(x_i)$ is the natural logarithm of the independent variable.\n",
    "- $e_i$ is the error term, which accounts for the difference between the observed and predicted values.\n",
    "\n",
    "In this model, a one percent change in $x_i$ is associated with a $b_1$ percent change in $y_i$. This is because when both $y_i$ and $x_i$ are logged, the coefficient $b_1$ can be interpreted as an elasticity. The error term $e_i$ accounts for any random variation not explained by the model.\n",
    "\n",
    "This model assumes that the relationship between $\\log(x_i)$ and $\\log(y_i)$ is linear. It's often used in situations where the effect of changes in the independent variable on the dependent variable are multiplicative rather than additive. The coefficients $b_0$ and $b_1$ are estimated from the data.\n",
    "\n",
    "Please note that this interpretation assumes that all other assumptions of linear regression (such as independence of errors) are met. If these assumptions are violated, then this interpretation may not be valid."
   ]
  },
  {
   "cell_type": "code",
   "execution_count": null,
   "metadata": {},
   "outputs": [],
   "source": [
    "# Filter the data to include only tenants\n",
    "dfr_filter = dfr[dfr['TENANT'] == 'tenant']\n",
    "print(dfr_filter)"
   ]
  },
  {
   "cell_type": "code",
   "execution_count": null,
   "metadata": {},
   "outputs": [],
   "source": [
    "# Handle missing or infinite values which might result from the conversion or the log transformation:\n",
    "dfr_filter = dfr_filter.replace([np.inf, -np.inf], np.nan)\n",
    "dfr_filter = dfr_filter.dropna(subset=['RENT','HOUSEHOLD_INCOME'])"
   ]
  },
  {
   "cell_type": "code",
   "execution_count": null,
   "metadata": {},
   "outputs": [],
   "source": [
    "print(dfr_filter[['HOUSEHOLD_INCOME']])"
   ]
  },
  {
   "cell_type": "code",
   "execution_count": null,
   "metadata": {},
   "outputs": [],
   "source": [
    "print(dfr_filter['RENT'])"
   ]
  },
  {
   "cell_type": "code",
   "execution_count": null,
   "metadata": {},
   "outputs": [],
   "source": [
    "# Independent Variable X (Provide)\n",
    "# Apply a log transformation to the 'Bedrooms' column\n",
    "x = np.log(dfr_filter[['HOUSEHOLD_INCOME']])"
   ]
  },
  {
   "cell_type": "code",
   "execution_count": null,
   "metadata": {},
   "outputs": [],
   "source": [
    "# Dependent Variable Y (Predict)\n",
    "# Apply a log transformation to the 'Price' column\n",
    "y = np.log(dfr_filter[['RENT']])"
   ]
  },
  {
   "cell_type": "code",
   "execution_count": null,
   "metadata": {},
   "outputs": [],
   "source": [
    "# Create a LinearRegression object\n",
    "model = LinearRegression()\n",
    "\n",
    "# Fit the model\n",
    "model.fit(x, y)"
   ]
  },
  {
   "cell_type": "code",
   "execution_count": null,
   "metadata": {},
   "outputs": [],
   "source": [
    "# Plot the values and linear regression\n",
    "plt.scatter(x,y)\n",
    "plt.plot(x, model.predict(x), c='red')"
   ]
  },
  {
   "cell_type": "code",
   "execution_count": null,
   "metadata": {},
   "outputs": [],
   "source": [
    "# Print y-intercept\n",
    "# One dimensional array - specify which element before convert. to int\n",
    "print('y-Intercept = ' + str(float(model.intercept_[0])))\n",
    "\n",
    "# Print slope\n",
    "# Two dimensional array - specify which element before convert. to int\n",
    "print('Slope = ' + str(float(model.coef_[0][0])))"
   ]
  },
  {
   "cell_type": "code",
   "execution_count": null,
   "metadata": {},
   "outputs": [],
   "source": [
    "# Predict certain value\n",
    "def predicted_y(value):\n",
    "    predict = model.coef_ * value + model.intercept_\n",
    "    return predict\n",
    "\n",
    "# Insert value into function\n",
    "int(predicted_y(3)[0][0])"
   ]
  },
  {
   "cell_type": "markdown",
   "metadata": {},
   "source": [
    "---"
   ]
  },
  {
   "cell_type": "markdown",
   "metadata": {},
   "source": [
    "## Exercise calculate mean of a sample from R Base data"
   ]
  },
  {
   "cell_type": "markdown",
   "metadata": {},
   "source": [
    "Take random sample of size 10 from iris dataset\n",
    "\n",
    "Calculate sepal lenght average"
   ]
  },
  {
   "cell_type": "code",
   "execution_count": 6,
   "metadata": {},
   "outputs": [],
   "source": [
    "from sklearn import datasets\n",
    "iris = datasets.load_iris()\n",
    "\n",
    "import random\n",
    "index = random.sample(range(iris.data.shape[0]), 10)\n"
   ]
  },
  {
   "cell_type": "code",
   "execution_count": 7,
   "metadata": {},
   "outputs": [
    {
     "name": "stdout",
     "output_type": "stream",
     "text": [
      "[87, 134, 5, 75, 28, 126, 20, 116, 3, 148]\n"
     ]
    }
   ],
   "source": [
    "print(index)"
   ]
  },
  {
   "cell_type": "code",
   "execution_count": 8,
   "metadata": {},
   "outputs": [],
   "source": [
    "df_iris = pd.DataFrame(data=iris.data, columns=iris.feature_names)"
   ]
  },
  {
   "cell_type": "code",
   "execution_count": 9,
   "metadata": {},
   "outputs": [
    {
     "name": "stdout",
     "output_type": "stream",
     "text": [
      "   sepal length (cm)  sepal width (cm)  petal length (cm)  petal width (cm)\n",
      "0                5.1               3.5                1.4               0.2\n",
      "1                4.9               3.0                1.4               0.2\n",
      "2                4.7               3.2                1.3               0.2\n",
      "3                4.6               3.1                1.5               0.2\n",
      "4                5.0               3.6                1.4               0.2\n"
     ]
    }
   ],
   "source": [
    "print(df_iris.head())"
   ]
  },
  {
   "cell_type": "code",
   "execution_count": 14,
   "metadata": {},
   "outputs": [],
   "source": [
    "values = random.sample(list(df_iris['sepal length (cm)']), 10)\n",
    "values = list(df_iris['sepal length (cm)'].iloc[index])\n"
   ]
  },
  {
   "cell_type": "code",
   "execution_count": 15,
   "metadata": {},
   "outputs": [
    {
     "name": "stdout",
     "output_type": "stream",
     "text": [
      "[6.3, 6.1, 5.4, 6.6, 5.2, 6.2, 5.4, 6.5, 4.6, 6.2]\n"
     ]
    }
   ],
   "source": [
    "print(values)"
   ]
  },
  {
   "cell_type": "code",
   "execution_count": 13,
   "metadata": {},
   "outputs": [
    {
     "name": "stdout",
     "output_type": "stream",
     "text": [
      "5.8500000000000005\n"
     ]
    }
   ],
   "source": [
    "mean = np.mean(values)\n",
    "print(mean)"
   ]
  },
  {
   "cell_type": "markdown",
   "metadata": {},
   "source": [
    "---"
   ]
  },
  {
   "cell_type": "markdown",
   "metadata": {},
   "source": [
    "## Simple Linear Regression Exercise 1 (L3+4)"
   ]
  },
  {
   "cell_type": "markdown",
   "metadata": {},
   "source": [
    "Load SimpleReg.RData"
   ]
  },
  {
   "cell_type": "code",
   "execution_count": 36,
   "metadata": {},
   "outputs": [
    {
     "name": "stdout",
     "output_type": "stream",
     "text": [
      "odict_keys(['dat'])\n"
     ]
    }
   ],
   "source": [
    "# Importing R Data:\n",
    "rdata = pyreadr.read_r('SimpleReg.RData')\n",
    "print(rdata.keys())"
   ]
  },
  {
   "cell_type": "code",
   "execution_count": 37,
   "metadata": {},
   "outputs": [
    {
     "name": "stdout",
     "output_type": "stream",
     "text": [
      "      TENANT RENT  HOUSEHOLD_INCOME\n",
      "0      owner  NaN      15700.280447\n",
      "1     tenant  450       8724.000000\n",
      "2     tenant  383      46234.738788\n",
      "3      owner  NaN       9602.000000\n",
      "4      owner  NaN      13204.668742\n",
      "...      ...  ...               ...\n",
      "2255   owner  NaN      31281.600000\n",
      "2256   owner  NaN      33799.347338\n",
      "2257   owner  NaN      15500.000000\n",
      "2258   owner  NaN      57155.307740\n",
      "2259   owner  NaN      67895.600000\n",
      "\n",
      "[2260 rows x 3 columns]\n"
     ]
    }
   ],
   "source": [
    "# Converting R Data to a Dataframe:\n",
    "dfr = (rdata['dat'])\n",
    "print(dfr)"
   ]
  },
  {
   "cell_type": "code",
   "execution_count": 38,
   "metadata": {},
   "outputs": [
    {
     "name": "stdout",
     "output_type": "stream",
     "text": [
      "      TENANT RENT  HOUSEHOLD_INCOME\n",
      "1     tenant  450       8724.000000\n",
      "2     tenant  383      46234.738788\n",
      "5     tenant  120       9600.000000\n",
      "7     tenant  410      30991.848400\n",
      "12    tenant  180       6840.000000\n",
      "...      ...  ...               ...\n",
      "2243  tenant  500      25165.157574\n",
      "2244  tenant  100      53332.948259\n",
      "2247  tenant  200      33290.000000\n",
      "2250  tenant  370       1290.000000\n",
      "2253  tenant  700      21000.000000\n",
      "\n",
      "[853 rows x 3 columns]\n"
     ]
    }
   ],
   "source": [
    "# Apply a filter if needed\n",
    "df_filter = dfr[dfr['TENANT'] == 'tenant']\n",
    "print(df_filter)"
   ]
  },
  {
   "cell_type": "code",
   "execution_count": 34,
   "metadata": {},
   "outputs": [],
   "source": [
    "# Handle missing or infinite values which might result from the conversion or the log transformation:\n",
    "df_filter = df_filter.replace([np.inf, -np.inf], np.nan)\n",
    "df_filter = df_filter.dropna(subset=['RENT','HOUSEHOLD_INCOME'])"
   ]
  },
  {
   "cell_type": "code",
   "execution_count": 26,
   "metadata": {},
   "outputs": [
    {
     "data": {
      "text/html": [
       "<style>#sk-container-id-2 {color: black;}#sk-container-id-2 pre{padding: 0;}#sk-container-id-2 div.sk-toggleable {background-color: white;}#sk-container-id-2 label.sk-toggleable__label {cursor: pointer;display: block;width: 100%;margin-bottom: 0;padding: 0.3em;box-sizing: border-box;text-align: center;}#sk-container-id-2 label.sk-toggleable__label-arrow:before {content: \"▸\";float: left;margin-right: 0.25em;color: #696969;}#sk-container-id-2 label.sk-toggleable__label-arrow:hover:before {color: black;}#sk-container-id-2 div.sk-estimator:hover label.sk-toggleable__label-arrow:before {color: black;}#sk-container-id-2 div.sk-toggleable__content {max-height: 0;max-width: 0;overflow: hidden;text-align: left;background-color: #f0f8ff;}#sk-container-id-2 div.sk-toggleable__content pre {margin: 0.2em;color: black;border-radius: 0.25em;background-color: #f0f8ff;}#sk-container-id-2 input.sk-toggleable__control:checked~div.sk-toggleable__content {max-height: 200px;max-width: 100%;overflow: auto;}#sk-container-id-2 input.sk-toggleable__control:checked~label.sk-toggleable__label-arrow:before {content: \"▾\";}#sk-container-id-2 div.sk-estimator input.sk-toggleable__control:checked~label.sk-toggleable__label {background-color: #d4ebff;}#sk-container-id-2 div.sk-label input.sk-toggleable__control:checked~label.sk-toggleable__label {background-color: #d4ebff;}#sk-container-id-2 input.sk-hidden--visually {border: 0;clip: rect(1px 1px 1px 1px);clip: rect(1px, 1px, 1px, 1px);height: 1px;margin: -1px;overflow: hidden;padding: 0;position: absolute;width: 1px;}#sk-container-id-2 div.sk-estimator {font-family: monospace;background-color: #f0f8ff;border: 1px dotted black;border-radius: 0.25em;box-sizing: border-box;margin-bottom: 0.5em;}#sk-container-id-2 div.sk-estimator:hover {background-color: #d4ebff;}#sk-container-id-2 div.sk-parallel-item::after {content: \"\";width: 100%;border-bottom: 1px solid gray;flex-grow: 1;}#sk-container-id-2 div.sk-label:hover label.sk-toggleable__label {background-color: #d4ebff;}#sk-container-id-2 div.sk-serial::before {content: \"\";position: absolute;border-left: 1px solid gray;box-sizing: border-box;top: 0;bottom: 0;left: 50%;z-index: 0;}#sk-container-id-2 div.sk-serial {display: flex;flex-direction: column;align-items: center;background-color: white;padding-right: 0.2em;padding-left: 0.2em;position: relative;}#sk-container-id-2 div.sk-item {position: relative;z-index: 1;}#sk-container-id-2 div.sk-parallel {display: flex;align-items: stretch;justify-content: center;background-color: white;position: relative;}#sk-container-id-2 div.sk-item::before, #sk-container-id-2 div.sk-parallel-item::before {content: \"\";position: absolute;border-left: 1px solid gray;box-sizing: border-box;top: 0;bottom: 0;left: 50%;z-index: -1;}#sk-container-id-2 div.sk-parallel-item {display: flex;flex-direction: column;z-index: 1;position: relative;background-color: white;}#sk-container-id-2 div.sk-parallel-item:first-child::after {align-self: flex-end;width: 50%;}#sk-container-id-2 div.sk-parallel-item:last-child::after {align-self: flex-start;width: 50%;}#sk-container-id-2 div.sk-parallel-item:only-child::after {width: 0;}#sk-container-id-2 div.sk-dashed-wrapped {border: 1px dashed gray;margin: 0 0.4em 0.5em 0.4em;box-sizing: border-box;padding-bottom: 0.4em;background-color: white;}#sk-container-id-2 div.sk-label label {font-family: monospace;font-weight: bold;display: inline-block;line-height: 1.2em;}#sk-container-id-2 div.sk-label-container {text-align: center;}#sk-container-id-2 div.sk-container {/* jupyter's `normalize.less` sets `[hidden] { display: none; }` but bootstrap.min.css set `[hidden] { display: none !important; }` so we also need the `!important` here to be able to override the default hidden behavior on the sphinx rendered scikit-learn.org. See: https://github.com/scikit-learn/scikit-learn/issues/21755 */display: inline-block !important;position: relative;}#sk-container-id-2 div.sk-text-repr-fallback {display: none;}</style><div id=\"sk-container-id-2\" class=\"sk-top-container\"><div class=\"sk-text-repr-fallback\"><pre>LinearRegression()</pre><b>In a Jupyter environment, please rerun this cell to show the HTML representation or trust the notebook. <br />On GitHub, the HTML representation is unable to render, please try loading this page with nbviewer.org.</b></div><div class=\"sk-container\" hidden><div class=\"sk-item\"><div class=\"sk-estimator sk-toggleable\"><input class=\"sk-toggleable__control sk-hidden--visually\" id=\"sk-estimator-id-2\" type=\"checkbox\" checked><label for=\"sk-estimator-id-2\" class=\"sk-toggleable__label sk-toggleable__label-arrow\">LinearRegression</label><div class=\"sk-toggleable__content\"><pre>LinearRegression()</pre></div></div></div></div></div>"
      ],
      "text/plain": [
       "LinearRegression()"
      ]
     },
     "execution_count": 26,
     "metadata": {},
     "output_type": "execute_result"
    }
   ],
   "source": [
    "# Independent Variable X (Provide)\n",
    "# Apply a log transformation to the 'Bedrooms' column\n",
    "x = np.log(df_filter[['RENT']])\n",
    "\n",
    "# Dependent Variable Y (Predict)\n",
    "# Apply a log transformation to the 'Price' column\n",
    "y = np.log(df_filter[['HOUSEHOLD_INCOME']])\n",
    "\n",
    "# Create a LinearRegression object\n",
    "model = LinearRegression()\n",
    "\n",
    "# Fit the model\n",
    "model.fit(x, y)"
   ]
  },
  {
   "cell_type": "code",
   "execution_count": 27,
   "metadata": {},
   "outputs": [
    {
     "data": {
      "text/plain": [
       "[<matplotlib.lines.Line2D at 0x29a445130>]"
      ]
     },
     "execution_count": 27,
     "metadata": {},
     "output_type": "execute_result"
    },
    {
     "data": {
      "image/png": "[encoded data removed]",
      "text/plain": [
       "<Figure size 640x480 with 1 Axes>"
      ]
     },
     "metadata": {},
     "output_type": "display_data"
    }
   ],
   "source": [
    "# Plot the values and linear regression\n",
    "plt.scatter(x,y)\n",
    "plt.plot(x, model.predict(x), c='red')"
   ]
  },
  {
   "cell_type": "code",
   "execution_count": 39,
   "metadata": {},
   "outputs": [
    {
     "name": "stdout",
     "output_type": "stream",
     "text": [
      "      TENANT RENT  HOUSEHOLD_INCOME\n",
      "1     tenant  450       8724.000000\n",
      "2     tenant  383      46234.738788\n",
      "5     tenant  120       9600.000000\n",
      "7     tenant  410      30991.848400\n",
      "12    tenant  180       6840.000000\n",
      "...      ...  ...               ...\n",
      "2243  tenant  500      25165.157574\n",
      "2244  tenant  100      53332.948259\n",
      "2247  tenant  200      33290.000000\n",
      "2250  tenant  370       1290.000000\n",
      "2253  tenant  700      21000.000000\n",
      "\n",
      "[853 rows x 3 columns]\n"
     ]
    }
   ],
   "source": [
    "print(df_filter)"
   ]
  },
  {
   "cell_type": "code",
   "execution_count": 40,
   "metadata": {},
   "outputs": [
    {
     "name": "stdout",
     "output_type": "stream",
     "text": [
      "                      RENT  HOUSEHOLD_INCOME\n",
      "RENT              1.000000          0.317712\n",
      "HOUSEHOLD_INCOME  0.317712          1.000000\n"
     ]
    }
   ],
   "source": [
    "r = df_filter[['RENT', 'HOUSEHOLD_INCOME']].corr()\n",
    "print(r)"
   ]
  },
  {
   "cell_type": "markdown",
   "metadata": {},
   "source": [
    "---"
   ]
  },
  {
   "cell_type": "markdown",
   "metadata": {},
   "source": [
    "## Exercise Template"
   ]
  },
  {
   "cell_type": "markdown",
   "metadata": {},
   "source": []
  },
  {
   "cell_type": "code",
   "execution_count": null,
   "metadata": {},
   "outputs": [],
   "source": []
  },
  {
   "cell_type": "markdown",
   "metadata": {},
   "source": [
    "---"
   ]
  }
 ],
 "metadata": {
  "kernelspec": {
   "display_name": "Python 3",
   "language": "python",
   "name": "python3"
  },
  "language_info": {
   "codemirror_mode": {
    "name": "ipython",
    "version": 3
   },
   "file_extension": ".py",
   "mimetype": "text/x-python",
   "name": "python",
   "nbconvert_exporter": "python",
   "pygments_lexer": "ipython3",
   "version": "3.9.6"
  }
 },
 "nbformat": 4,
 "nbformat_minor": 2
}
